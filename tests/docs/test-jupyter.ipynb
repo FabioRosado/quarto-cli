{
 "cells": [],
 "metadata": {
  "jupytext": {
   "formats": "ipynb,md,py:percent",
   "notebook_metadata_filter": "-jupytext.notebook_metadata_filter,-jupytext.main_language"
  },
  "kernelspec": {
   "display_name": "Python 3",
   "language": "python",
   "name": "python3"
  },
  "language_info": {
   "codemirror_mode": {
    "name": "ipython",
    "version": 3
   },
   "file_extension": ".py",
   "mimetype": "text/x-python",
   "name": "python",
   "nbconvert_exporter": "python",
   "pygments_lexer": "ipython3",
   "version": "3.8.5"
  }
 },
 "nbformat": 4,
 "nbformat_minor": 4
}
