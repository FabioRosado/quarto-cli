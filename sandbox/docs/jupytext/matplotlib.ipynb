{
 "cells": [
  {
   "cell_type": "raw",
   "metadata": {},
   "source": [
    "---\n",
    "title: \"Here we go boys\"\n",
    "author: \"J.J. Allaire\"\n",
    "knit: quarto render\n",
    "format:\n",
    "  html:\n",
    "    fig-width: 6\n",
    "    fig-height: 2\n",
    "---"
   ]
  },
  {
   "cell_type": "markdown",
   "metadata": {},
   "source": [
    "## Slide with Plot"
   ]
  },
  {
   "cell_type": "code",
   "execution_count": 1,
   "metadata": {
    "lines_to_next_cell": 2,
    "tags": [
     "remove-code"
    ]
   },
   "outputs": [
    {
     "data": {
      "image/png": "[encoded data removed]",
      "text/plain": [
       "<Figure size 576x192 with 1 Axes>"
      ]
     },
     "metadata": {
      "image/png": {
       "height": 206,
       "width": 510
      },
      "needs_background": "light"
     },
     "output_type": "display_data"
    }
   ],
   "source": [
    "import matplotlib.pyplot as plt\n",
    "\n",
    "labels = ['G1', 'G2', 'G3', 'G4', 'G6']\n",
    "men_means = [20, 35, 30, 35, 27]\n",
    "women_means = [25, 32, 34, 20, 25]\n",
    "men_std = [2, 3, 4, 1, 2]\n",
    "women_std = [3, 5, 2, 3, 3]\n",
    "width = 0.35       # the width of the bars: can also be len(x) sequence\n",
    "\n",
    "fig, ax = plt.subplots()\n",
    "\n",
    "ax.bar(labels, men_means, width, yerr=men_std, label='Men')\n",
    "ax.bar(labels, women_means, width, yerr=women_std, bottom=men_means,\n",
    "       label='Women')\n",
    "\n",
    "ax.set_ylabel('Scores')\n",
    "ax.set_title('Scores broken out by group and gender')\n",
    "ax.legend()\n",
    "plt.show()"
   ]
  },
  {
   "cell_type": "markdown",
   "metadata": {},
   "source": [
    "\n",
    "\n",
    "\n",
    "\n",
    "\n",
    "\n",
    "\n",
    "\n",
    "\n",
    "\n",
    "\n",
    "\n"
   ]
  }
 ],
 "metadata": {
  "celltoolbar": "Tags",
  "jupytext": {
   "formats": "ipynb,md"
  },
  "kernelspec": {
   "display_name": "Python 3",
   "language": "python",
   "name": "python3"
  },
  "language_info": {
   "codemirror_mode": {
    "name": "ipython",
    "version": 3
   },
   "file_extension": ".py",
   "mimetype": "text/x-python",
   "name": "python",
   "nbconvert_exporter": "python",
   "pygments_lexer": "ipython3",
   "version": "3.8.5"
  },
  "widgets": {
   "application/vnd.jupyter.widget-state+json": {
    "state": {
     "0090fed5fdf143f0b0b55f23fe29829b": {
      "model_module": "jupyter-leaflet",
      "model_module_version": "^0.13.2",
      "model_name": "LeafletTileLayerModel",
      "state": {
       "_model_module_version": "^0.13.2",
       "_view_module_version": "^0.13.2",
       "attribution": "\nImagery provided by services from the Global Imagery Browse Services (GIBS), operated by the NASA/GSFC/Earth Science Data and Information System (<a href=\"https://earthdata.nasa.gov\">ESDIS</a>) with funding provided by NASA/HQ.\n",
       "base": true,
       "max_native_zoom": 18,
       "max_zoom": 9,
       "min_native_zoom": 0,
       "min_zoom": 1,
       "name": "NASAGIBS.ModisTerraTrueColorCR",
       "options": [
        "attribution",
        "detect_retina",
        "max_native_zoom",
        "max_zoom",
        "min_native_zoom",
        "min_zoom",
        "no_wrap",
        "tile_size",
        "tms"
       ],
       "url": "https://gibs.earthdata.nasa.gov/wmts/epsg3857/best/MODIS_Terra_CorrectedReflectance_TrueColor/default/2017-04-08/GoogleMapsCompatible_Level9/{z}/{y}/{x}.jpg"
      }
     },
     "09a937b1074f4508acb182c2016d8942": {
      "model_module": "jupyter-leaflet",
      "model_module_version": "^0.13.2",
      "model_name": "LeafletMapStyleModel",
      "state": {
       "_model_module_version": "^0.13.2"
      }
     },
     "0bd33b0482dc4afdb602b224ca1860db": {
      "model_module": "jupyter-leaflet",
      "model_module_version": "^0.13.2",
      "model_name": "LeafletTileLayerModel",
      "state": {
       "_model_module_version": "^0.13.2",
       "_view_module_version": "^0.13.2",
       "attribution": "\nImagery provided by services from the Global Imagery Browse Services (GIBS), operated by the NASA/GSFC/Earth Science Data and Information System (<a href=\"https://earthdata.nasa.gov\">ESDIS</a>) with funding provided by NASA/HQ.\n",
       "base": true,
       "max_native_zoom": 18,
       "max_zoom": 9,
       "min_native_zoom": 0,
       "min_zoom": 1,
       "name": "NASAGIBS.ModisTerraTrueColorCR",
       "options": [
        "attribution",
        "detect_retina",
        "max_native_zoom",
        "max_zoom",
        "min_native_zoom",
        "min_zoom",
        "no_wrap",
        "tile_size",
        "tms"
       ],
       "url": "https://gibs.earthdata.nasa.gov/wmts/epsg3857/best/MODIS_Terra_CorrectedReflectance_TrueColor/default/2017-04-08/GoogleMapsCompatible_Level9/{z}/{y}/{x}.jpg"
      }
     },
     "0e43fafe078440e1ad8f2fd76c45744f": {
      "model_module": "jupyter-leaflet",
      "model_module_version": "^0.13.2",
      "model_name": "LeafletMapModel",
      "state": {
       "_model_module_version": "^0.13.2",
       "_view_module_version": "^0.13.2",
       "center": [
        52.204793,
        360.121558
       ],
       "controls": [
        "IPY_MODEL_fba72d0491ed41aab544a69ec36e4751",
        "IPY_MODEL_a4141edcc540498b9896215ffcab4429"
       ],
       "default_style": "IPY_MODEL_6370ed55d568498691b106b5b0a75ea6",
       "dragging_style": "IPY_MODEL_bb27a90b0e0141b7a4679c717d83a9e8",
       "fullscreen": false,
       "interpolation": "bilinear",
       "layers": [
        "IPY_MODEL_0090fed5fdf143f0b0b55f23fe29829b",
        "IPY_MODEL_a66665013946479da33944ce73bd618d"
       ],
       "layout": "IPY_MODEL_70ecb6d15c6647e282662d8ab51fd677",
       "modisdate": "yesterday",
       "options": [
        "bounce_at_zoom_limits",
        "box_zoom",
        "center",
        "close_popup_on_click",
        "double_click_zoom",
        "dragging",
        "fullscreen",
        "inertia",
        "inertia_deceleration",
        "inertia_max_speed",
        "interpolation",
        "keyboard",
        "keyboard_pan_offset",
        "keyboard_zoom_offset",
        "max_zoom",
        "min_zoom",
        "scroll_wheel_zoom",
        "tap",
        "tap_tolerance",
        "touch_zoom",
        "world_copy_jump",
        "zoom",
        "zoom_animation_threshold",
        "zoom_delta",
        "zoom_snap",
        "zoom_start"
       ],
       "style": "IPY_MODEL_9cf04cb7665045009d51ab022e2d9183",
       "window_url": "http://localhost:8888/notebooks/jupytext.ipynb",
       "zoom": 4
      }
     },
     "109573a08bf54dac95b2a8be6f8ac247": {
      "model_module": "jupyter-leaflet",
      "model_module_version": "^0.13.2",
      "model_name": "LeafletZoomControlModel",
      "state": {
       "_model_module_version": "^0.13.2",
       "_view_module_version": "^0.13.2",
       "options": [
        "position",
        "zoom_in_text",
        "zoom_in_title",
        "zoom_out_text",
        "zoom_out_title"
       ]
      }
     },
     "10c1d5c3c48943429b3b25e9a16b0de3": {
      "model_module": "jupyter-leaflet",
      "model_module_version": "^0.13.2",
      "model_name": "LeafletMapStyleModel",
      "state": {
       "_model_module_version": "^0.13.2"
      }
     },
     "14844fb804674e79af9292d27c5b98f0": {
      "model_module": "jupyter-leaflet",
      "model_module_version": "^0.13.2",
      "model_name": "LeafletTileLayerModel",
      "state": {
       "_model_module_version": "^0.13.2",
       "_view_module_version": "^0.13.2",
       "attribution": "\nImagery provided by services from the Global Imagery Browse Services (GIBS), operated by the NASA/GSFC/Earth Science Data and Information System (<a href=\"https://earthdata.nasa.gov\">ESDIS</a>) with funding provided by NASA/HQ.\n",
       "base": true,
       "max_native_zoom": 18,
       "max_zoom": 9,
       "min_native_zoom": 0,
       "min_zoom": 1,
       "name": "NASAGIBS.ModisTerraTrueColorCR",
       "options": [
        "attribution",
        "detect_retina",
        "max_native_zoom",
        "max_zoom",
        "min_native_zoom",
        "min_zoom",
        "no_wrap",
        "tile_size",
        "tms"
       ],
       "url": "https://gibs.earthdata.nasa.gov/wmts/epsg3857/best/MODIS_Terra_CorrectedReflectance_TrueColor/default/2017-04-08/GoogleMapsCompatible_Level9/{z}/{y}/{x}.jpg"
      }
     },
     "153549efc21e4d5a9d583486048cd314": {
      "model_module": "jupyter-leaflet",
      "model_module_version": "^0.13.2",
      "model_name": "LeafletTileLayerModel",
      "state": {
       "_model_module_version": "^0.13.2",
       "_view_module_version": "^0.13.2",
       "attribution": "\nImagery provided by services from the Global Imagery Browse Services (GIBS), operated by the NASA/GSFC/Earth Science Data and Information System (<a href=\"https://earthdata.nasa.gov\">ESDIS</a>) with funding provided by NASA/HQ.\n",
       "base": true,
       "max_native_zoom": 18,
       "max_zoom": 9,
       "min_native_zoom": 0,
       "min_zoom": 1,
       "name": "NASAGIBS.ModisTerraTrueColorCR",
       "options": [
        "attribution",
        "detect_retina",
        "max_native_zoom",
        "max_zoom",
        "min_native_zoom",
        "min_zoom",
        "no_wrap",
        "tile_size",
        "tms"
       ],
       "url": "https://gibs.earthdata.nasa.gov/wmts/epsg3857/best/MODIS_Terra_CorrectedReflectance_TrueColor/default/2017-04-08/GoogleMapsCompatible_Level9/{z}/{y}/{x}.jpg"
      }
     },
     "2daaa27fa8224df287f97f71c3447b8a": {
      "model_module": "jupyter-leaflet",
      "model_module_version": "^0.13.2",
      "model_name": "LeafletAttributionControlModel",
      "state": {
       "_model_module_version": "^0.13.2",
       "_view_module_version": "^0.13.2",
       "options": [
        "position",
        "prefix"
       ],
       "position": "bottomright",
       "prefix": "ipyleaflet"
      }
     },
     "2ddc3e1e75a94e3d842993ad2ac08e12": {
      "model_module": "jupyter-leaflet",
      "model_module_version": "^0.13.2",
      "model_name": "LeafletZoomControlModel",
      "state": {
       "_model_module_version": "^0.13.2",
       "_view_module_version": "^0.13.2",
       "options": [
        "position",
        "zoom_in_text",
        "zoom_in_title",
        "zoom_out_text",
        "zoom_out_title"
       ]
      }
     },
     "33c5948724c042869ef3178b566936fd": {
      "model_module": "jupyter-leaflet",
      "model_module_version": "^0.13.2",
      "model_name": "LeafletMapModel",
      "state": {
       "_model_module_version": "^0.13.2",
       "_view_module_version": "^0.13.2",
       "bottom": 1549,
       "center": [
        52.204793,
        360.121558
       ],
       "controls": [
        "IPY_MODEL_3d6002cec1fe4800921a92a808ea64fb",
        "IPY_MODEL_5e8c15f5d60d4256870d4e3e2e1a86ed"
       ],
       "default_style": "IPY_MODEL_09a937b1074f4508acb182c2016d8942",
       "dragging_style": "IPY_MODEL_4ef933e8b349447a9a2d7ed6e5aaf2a4",
       "east": 403.24218750000006,
       "fullscreen": false,
       "interpolation": "bilinear",
       "layers": [
        "IPY_MODEL_153549efc21e4d5a9d583486048cd314",
        "IPY_MODEL_d5cd441c13314a59bbcb492bc57151ec"
       ],
       "layout": "IPY_MODEL_998006cc77ee4c2da052114a55ed0908",
       "left": 5655,
       "modisdate": "yesterday",
       "north": 61.73152565113397,
       "options": [
        "bounce_at_zoom_limits",
        "box_zoom",
        "center",
        "close_popup_on_click",
        "double_click_zoom",
        "dragging",
        "fullscreen",
        "inertia",
        "inertia_deceleration",
        "inertia_max_speed",
        "interpolation",
        "keyboard",
        "keyboard_pan_offset",
        "keyboard_zoom_offset",
        "max_zoom",
        "min_zoom",
        "scroll_wheel_zoom",
        "tap",
        "tap_tolerance",
        "touch_zoom",
        "world_copy_jump",
        "zoom",
        "zoom_animation_threshold",
        "zoom_delta",
        "zoom_snap",
        "zoom_start"
       ],
       "right": 6636,
       "south": 40.111688665595956,
       "style": "IPY_MODEL_5cbc72f3ced04014822b0dc5fab4ab1a",
       "top": 1149,
       "west": 180,
       "window_url": "http://localhost:8888/notebooks/jupytext.ipynb",
       "zoom": 4
      }
     },
     "3d6002cec1fe4800921a92a808ea64fb": {
      "model_module": "jupyter-leaflet",
      "model_module_version": "^0.13.2",
      "model_name": "LeafletZoomControlModel",
      "state": {
       "_model_module_version": "^0.13.2",
       "_view_module_version": "^0.13.2",
       "options": [
        "position",
        "zoom_in_text",
        "zoom_in_title",
        "zoom_out_text",
        "zoom_out_title"
       ]
      }
     },
     "42a6f28f0b4a40be8b730135a0d079f8": {
      "model_module": "@jupyter-widgets/base",
      "model_module_version": "1.2.0",
      "model_name": "LayoutModel",
      "state": {}
     },
     "4ef933e8b349447a9a2d7ed6e5aaf2a4": {
      "model_module": "jupyter-leaflet",
      "model_module_version": "^0.13.2",
      "model_name": "LeafletMapStyleModel",
      "state": {
       "_model_module_version": "^0.13.2",
       "cursor": "move"
      }
     },
     "5cbc72f3ced04014822b0dc5fab4ab1a": {
      "model_module": "jupyter-leaflet",
      "model_module_version": "^0.13.2",
      "model_name": "LeafletMapStyleModel",
      "state": {
       "_model_module_version": "^0.13.2"
      }
     },
     "5e8c15f5d60d4256870d4e3e2e1a86ed": {
      "model_module": "jupyter-leaflet",
      "model_module_version": "^0.13.2",
      "model_name": "LeafletAttributionControlModel",
      "state": {
       "_model_module_version": "^0.13.2",
       "_view_module_version": "^0.13.2",
       "options": [
        "position",
        "prefix"
       ],
       "position": "bottomright",
       "prefix": "ipyleaflet"
      }
     },
     "6370ed55d568498691b106b5b0a75ea6": {
      "model_module": "jupyter-leaflet",
      "model_module_version": "^0.13.2",
      "model_name": "LeafletMapStyleModel",
      "state": {
       "_model_module_version": "^0.13.2"
      }
     },
     "69fa95c836c64b41a98f817656e55907": {
      "model_module": "jupyter-leaflet",
      "model_module_version": "^0.13.2",
      "model_name": "LeafletZoomControlModel",
      "state": {
       "_model_module_version": "^0.13.2",
       "_view_module_version": "^0.13.2",
       "options": [
        "position",
        "zoom_in_text",
        "zoom_in_title",
        "zoom_out_text",
        "zoom_out_title"
       ]
      }
     },
     "6a66ab64e68e4f1ebc36ef82562b016b": {
      "model_module": "jupyter-leaflet",
      "model_module_version": "^0.13.2",
      "model_name": "LeafletMapStyleModel",
      "state": {
       "_model_module_version": "^0.13.2"
      }
     },
     "6e0aee04f1aa4e4786bf7da626fff71b": {
      "model_module": "jupyter-leaflet",
      "model_module_version": "^0.13.2",
      "model_name": "LeafletMapModel",
      "state": {
       "_model_module_version": "^0.13.2",
       "_view_module_version": "^0.13.2",
       "bottom": 1549,
       "center": [
        52.204793,
        360.121558
       ],
       "controls": [
        "IPY_MODEL_ca89781f8f6d48bc95d805e55143f239",
        "IPY_MODEL_ef83390f3bbc426fa31a8a11e15b0bac"
       ],
       "default_style": "IPY_MODEL_eb49205d958e440ab54df75eb69983e3",
       "dragging_style": "IPY_MODEL_b82adfff9142487b92ad4357fda78112",
       "east": 403.24218750000006,
       "fullscreen": false,
       "interpolation": "bilinear",
       "layers": [
        "IPY_MODEL_14844fb804674e79af9292d27c5b98f0",
        "IPY_MODEL_f441c38c1094427f9d8739ca740afc38"
       ],
       "layout": "IPY_MODEL_8b7d73c0713842aa97c00a2576dc3e45",
       "left": 5655,
       "modisdate": "yesterday",
       "north": 61.73152565113397,
       "options": [
        "bounce_at_zoom_limits",
        "box_zoom",
        "center",
        "close_popup_on_click",
        "double_click_zoom",
        "dragging",
        "fullscreen",
        "inertia",
        "inertia_deceleration",
        "inertia_max_speed",
        "interpolation",
        "keyboard",
        "keyboard_pan_offset",
        "keyboard_zoom_offset",
        "max_zoom",
        "min_zoom",
        "scroll_wheel_zoom",
        "tap",
        "tap_tolerance",
        "touch_zoom",
        "world_copy_jump",
        "zoom",
        "zoom_animation_threshold",
        "zoom_delta",
        "zoom_snap",
        "zoom_start"
       ],
       "right": 6636,
       "south": 40.111688665595956,
       "style": "IPY_MODEL_f05bd8ffb11c467ebb1b2e24ab2e348d",
       "top": 1149,
       "west": 180,
       "window_url": "http://localhost:8888/notebooks/jupytext.ipynb",
       "zoom": 4
      }
     },
     "70ecb6d15c6647e282662d8ab51fd677": {
      "model_module": "@jupyter-widgets/base",
      "model_module_version": "1.2.0",
      "model_name": "LayoutModel",
      "state": {}
     },
     "749a56167db04c16937a8424917842a5": {
      "model_module": "jupyter-leaflet",
      "model_module_version": "^0.13.2",
      "model_name": "LeafletAttributionControlModel",
      "state": {
       "_model_module_version": "^0.13.2",
       "_view_module_version": "^0.13.2",
       "options": [
        "position",
        "prefix"
       ],
       "position": "bottomright",
       "prefix": "ipyleaflet"
      }
     },
     "753bd3be20424c3ca6eaa62000e1a822": {
      "model_module": "jupyter-leaflet",
      "model_module_version": "^0.13.2",
      "model_name": "LeafletMarkerModel",
      "state": {
       "_model_module_version": "^0.13.2",
       "_view_module_version": "^0.13.2",
       "location": [
        52.204793,
        360.121558
       ],
       "options": [
        "alt",
        "draggable",
        "keyboard",
        "rise_offset",
        "rise_on_hover",
        "rotation_angle",
        "rotation_origin",
        "title",
        "z_index_offset"
       ]
      }
     },
     "76389bf884b246ce9a02cd026282942f": {
      "model_module": "jupyter-leaflet",
      "model_module_version": "^0.13.2",
      "model_name": "LeafletAttributionControlModel",
      "state": {
       "_model_module_version": "^0.13.2",
       "_view_module_version": "^0.13.2",
       "options": [
        "position",
        "prefix"
       ],
       "position": "bottomright",
       "prefix": "ipyleaflet"
      }
     },
     "80235676eeef4bbe8115ad28c227080d": {
      "model_module": "jupyter-leaflet",
      "model_module_version": "^0.13.2",
      "model_name": "LeafletMapStyleModel",
      "state": {
       "_model_module_version": "^0.13.2"
      }
     },
     "8462fb1aebb04f4fbbd5c1dddb9ecbe8": {
      "model_module": "jupyter-leaflet",
      "model_module_version": "^0.13.2",
      "model_name": "LeafletMapStyleModel",
      "state": {
       "_model_module_version": "^0.13.2"
      }
     },
     "8b7d73c0713842aa97c00a2576dc3e45": {
      "model_module": "@jupyter-widgets/base",
      "model_module_version": "1.2.0",
      "model_name": "LayoutModel",
      "state": {}
     },
     "91e197fb64df496794e198374db3a166": {
      "model_module": "jupyter-leaflet",
      "model_module_version": "^0.13.2",
      "model_name": "LeafletMapStyleModel",
      "state": {
       "_model_module_version": "^0.13.2",
       "cursor": "move"
      }
     },
     "9744e333acb84f3fad6e48435fa06de7": {
      "model_module": "@jupyter-widgets/base",
      "model_module_version": "1.2.0",
      "model_name": "LayoutModel",
      "state": {}
     },
     "998006cc77ee4c2da052114a55ed0908": {
      "model_module": "@jupyter-widgets/base",
      "model_module_version": "1.2.0",
      "model_name": "LayoutModel",
      "state": {}
     },
     "9cf04cb7665045009d51ab022e2d9183": {
      "model_module": "jupyter-leaflet",
      "model_module_version": "^0.13.2",
      "model_name": "LeafletMapStyleModel",
      "state": {
       "_model_module_version": "^0.13.2"
      }
     },
     "a4141edcc540498b9896215ffcab4429": {
      "model_module": "jupyter-leaflet",
      "model_module_version": "^0.13.2",
      "model_name": "LeafletAttributionControlModel",
      "state": {
       "_model_module_version": "^0.13.2",
       "_view_module_version": "^0.13.2",
       "options": [
        "position",
        "prefix"
       ],
       "position": "bottomright",
       "prefix": "ipyleaflet"
      }
     },
     "a58362658df64ba28ef598c62b74b0aa": {
      "model_module": "jupyter-leaflet",
      "model_module_version": "^0.13.2",
      "model_name": "LeafletMapModel",
      "state": {
       "_model_module_version": "^0.13.2",
       "_view_module_version": "^0.13.2",
       "bottom": 1549,
       "center": [
        52.214338608258224,
        360.13183593750006
       ],
       "controls": [
        "IPY_MODEL_2ddc3e1e75a94e3d842993ad2ac08e12",
        "IPY_MODEL_2daaa27fa8224df287f97f71c3447b8a"
       ],
       "default_style": "IPY_MODEL_8462fb1aebb04f4fbbd5c1dddb9ecbe8",
       "dragging_style": "IPY_MODEL_af26044bd08a43dfb49696ed0bca20e5",
       "east": 382.060546875,
       "fullscreen": false,
       "interpolation": "bilinear",
       "layers": [
        "IPY_MODEL_df2378e9abf045a082790787759db2d2",
        "IPY_MODEL_753bd3be20424c3ca6eaa62000e1a822"
       ],
       "layout": "IPY_MODEL_e902cf99e7ac44dd99a2bb64f1e8ea2a",
       "left": 5896,
       "modisdate": "yesterday",
       "north": 61.73152565113397,
       "options": [
        "bounce_at_zoom_limits",
        "box_zoom",
        "center",
        "close_popup_on_click",
        "double_click_zoom",
        "dragging",
        "fullscreen",
        "inertia",
        "inertia_deceleration",
        "inertia_max_speed",
        "interpolation",
        "keyboard",
        "keyboard_pan_offset",
        "keyboard_zoom_offset",
        "max_zoom",
        "min_zoom",
        "scroll_wheel_zoom",
        "tap",
        "tap_tolerance",
        "touch_zoom",
        "world_copy_jump",
        "zoom",
        "zoom_animation_threshold",
        "zoom_delta",
        "zoom_snap",
        "zoom_start"
       ],
       "right": 6395,
       "south": 40.111688665595956,
       "style": "IPY_MODEL_8462fb1aebb04f4fbbd5c1dddb9ecbe8",
       "top": 1149,
       "west": 180,
       "window_url": "http://localhost:8888/notebooks/jupytext.ipynb",
       "zoom": 4
      }
     },
     "a66665013946479da33944ce73bd618d": {
      "model_module": "jupyter-leaflet",
      "model_module_version": "^0.13.2",
      "model_name": "LeafletMarkerModel",
      "state": {
       "_model_module_version": "^0.13.2",
       "_view_module_version": "^0.13.2",
       "location": [
        52.204793,
        360.121558
       ],
       "options": [
        "alt",
        "draggable",
        "keyboard",
        "rise_offset",
        "rise_on_hover",
        "rotation_angle",
        "rotation_origin",
        "title",
        "z_index_offset"
       ]
      }
     },
     "af26044bd08a43dfb49696ed0bca20e5": {
      "model_module": "jupyter-leaflet",
      "model_module_version": "^0.13.2",
      "model_name": "LeafletMapStyleModel",
      "state": {
       "_model_module_version": "^0.13.2",
       "cursor": "move"
      }
     },
     "b0879841eeac43ba92eb807e63741c1d": {
      "model_module": "jupyter-leaflet",
      "model_module_version": "^0.13.2",
      "model_name": "LeafletMarkerModel",
      "state": {
       "_model_module_version": "^0.13.2",
       "_view_module_version": "^0.13.2",
       "location": [
        52.204793,
        360.121558
       ],
       "options": [
        "alt",
        "draggable",
        "keyboard",
        "rise_offset",
        "rise_on_hover",
        "rotation_angle",
        "rotation_origin",
        "title",
        "z_index_offset"
       ]
      }
     },
     "b82adfff9142487b92ad4357fda78112": {
      "model_module": "jupyter-leaflet",
      "model_module_version": "^0.13.2",
      "model_name": "LeafletMapStyleModel",
      "state": {
       "_model_module_version": "^0.13.2",
       "cursor": "move"
      }
     },
     "ba57f42e095d4685a1a65a927b34205a": {
      "model_module": "jupyter-leaflet",
      "model_module_version": "^0.13.2",
      "model_name": "LeafletTileLayerModel",
      "state": {
       "_model_module_version": "^0.13.2",
       "_view_module_version": "^0.13.2",
       "attribution": "\nImagery provided by services from the Global Imagery Browse Services (GIBS), operated by the NASA/GSFC/Earth Science Data and Information System (<a href=\"https://earthdata.nasa.gov\">ESDIS</a>) with funding provided by NASA/HQ.\n",
       "base": true,
       "max_native_zoom": 18,
       "max_zoom": 9,
       "min_native_zoom": 0,
       "min_zoom": 1,
       "name": "NASAGIBS.ModisTerraTrueColorCR",
       "options": [
        "attribution",
        "detect_retina",
        "max_native_zoom",
        "max_zoom",
        "min_native_zoom",
        "min_zoom",
        "no_wrap",
        "tile_size",
        "tms"
       ],
       "url": "https://gibs.earthdata.nasa.gov/wmts/epsg3857/best/MODIS_Terra_CorrectedReflectance_TrueColor/default/2017-04-08/GoogleMapsCompatible_Level9/{z}/{y}/{x}.jpg"
      }
     },
     "bb27a90b0e0141b7a4679c717d83a9e8": {
      "model_module": "jupyter-leaflet",
      "model_module_version": "^0.13.2",
      "model_name": "LeafletMapStyleModel",
      "state": {
       "_model_module_version": "^0.13.2",
       "cursor": "move"
      }
     },
     "bcedca96e21a408196f74fd2a2e24435": {
      "model_module": "jupyter-leaflet",
      "model_module_version": "^0.13.2",
      "model_name": "LeafletMapStyleModel",
      "state": {
       "_model_module_version": "^0.13.2"
      }
     },
     "ca89781f8f6d48bc95d805e55143f239": {
      "model_module": "jupyter-leaflet",
      "model_module_version": "^0.13.2",
      "model_name": "LeafletZoomControlModel",
      "state": {
       "_model_module_version": "^0.13.2",
       "_view_module_version": "^0.13.2",
       "options": [
        "position",
        "zoom_in_text",
        "zoom_in_title",
        "zoom_out_text",
        "zoom_out_title"
       ]
      }
     },
     "d2688eb95f3544f4b4056ffb9d8163af": {
      "model_module": "jupyter-leaflet",
      "model_module_version": "^0.13.2",
      "model_name": "LeafletMapStyleModel",
      "state": {
       "_model_module_version": "^0.13.2"
      }
     },
     "d384de6b41ff46b7b4ffef11ce83d194": {
      "model_module": "jupyter-leaflet",
      "model_module_version": "^0.13.2",
      "model_name": "LeafletMapModel",
      "state": {
       "_model_module_version": "^0.13.2",
       "_view_module_version": "^0.13.2",
       "bottom": 1549,
       "center": [
        52.204793,
        360.121558
       ],
       "controls": [
        "IPY_MODEL_69fa95c836c64b41a98f817656e55907",
        "IPY_MODEL_76389bf884b246ce9a02cd026282942f"
       ],
       "default_style": "IPY_MODEL_80235676eeef4bbe8115ad28c227080d",
       "dragging_style": "IPY_MODEL_91e197fb64df496794e198374db3a166",
       "east": 403.24218750000006,
       "fullscreen": false,
       "interpolation": "bilinear",
       "layers": [
        "IPY_MODEL_0bd33b0482dc4afdb602b224ca1860db",
        "IPY_MODEL_b0879841eeac43ba92eb807e63741c1d"
       ],
       "layout": "IPY_MODEL_9744e333acb84f3fad6e48435fa06de7",
       "left": 5655,
       "modisdate": "yesterday",
       "north": 61.73152565113397,
       "options": [
        "bounce_at_zoom_limits",
        "box_zoom",
        "center",
        "close_popup_on_click",
        "double_click_zoom",
        "dragging",
        "fullscreen",
        "inertia",
        "inertia_deceleration",
        "inertia_max_speed",
        "interpolation",
        "keyboard",
        "keyboard_pan_offset",
        "keyboard_zoom_offset",
        "max_zoom",
        "min_zoom",
        "scroll_wheel_zoom",
        "tap",
        "tap_tolerance",
        "touch_zoom",
        "world_copy_jump",
        "zoom",
        "zoom_animation_threshold",
        "zoom_delta",
        "zoom_snap",
        "zoom_start"
       ],
       "right": 6636,
       "south": 40.111688665595956,
       "style": "IPY_MODEL_6a66ab64e68e4f1ebc36ef82562b016b",
       "top": 1149,
       "west": 180,
       "window_url": "http://localhost:8888/notebooks/jupytext.ipynb",
       "zoom": 4
      }
     },
     "d5cd441c13314a59bbcb492bc57151ec": {
      "model_module": "jupyter-leaflet",
      "model_module_version": "^0.13.2",
      "model_name": "LeafletMarkerModel",
      "state": {
       "_model_module_version": "^0.13.2",
       "_view_module_version": "^0.13.2",
       "location": [
        52.204793,
        360.121558
       ],
       "options": [
        "alt",
        "draggable",
        "keyboard",
        "rise_offset",
        "rise_on_hover",
        "rotation_angle",
        "rotation_origin",
        "title",
        "z_index_offset"
       ]
      }
     },
     "df2378e9abf045a082790787759db2d2": {
      "model_module": "jupyter-leaflet",
      "model_module_version": "^0.13.2",
      "model_name": "LeafletTileLayerModel",
      "state": {
       "_model_module_version": "^0.13.2",
       "_view_module_version": "^0.13.2",
       "attribution": "\nImagery provided by services from the Global Imagery Browse Services (GIBS), operated by the NASA/GSFC/Earth Science Data and Information System (<a href=\"https://earthdata.nasa.gov\">ESDIS</a>) with funding provided by NASA/HQ.\n",
       "base": true,
       "max_native_zoom": 18,
       "max_zoom": 9,
       "min_native_zoom": 0,
       "min_zoom": 1,
       "name": "NASAGIBS.ModisTerraTrueColorCR",
       "options": [
        "attribution",
        "detect_retina",
        "max_native_zoom",
        "max_zoom",
        "min_native_zoom",
        "min_zoom",
        "no_wrap",
        "tile_size",
        "tms"
       ],
       "url": "https://gibs.earthdata.nasa.gov/wmts/epsg3857/best/MODIS_Terra_CorrectedReflectance_TrueColor/default/2017-04-08/GoogleMapsCompatible_Level9/{z}/{y}/{x}.jpg"
      }
     },
     "e902cf99e7ac44dd99a2bb64f1e8ea2a": {
      "model_module": "@jupyter-widgets/base",
      "model_module_version": "1.2.0",
      "model_name": "LayoutModel",
      "state": {}
     },
     "eb2732eb81af44989eff3a22e66e44ff": {
      "model_module": "jupyter-leaflet",
      "model_module_version": "^0.13.2",
      "model_name": "LeafletMarkerModel",
      "state": {
       "_model_module_version": "^0.13.2",
       "_view_module_version": "^0.13.2",
       "location": [
        52.204793,
        360.121558
       ],
       "options": [
        "alt",
        "draggable",
        "keyboard",
        "rise_offset",
        "rise_on_hover",
        "rotation_angle",
        "rotation_origin",
        "title",
        "z_index_offset"
       ]
      }
     },
     "eb49205d958e440ab54df75eb69983e3": {
      "model_module": "jupyter-leaflet",
      "model_module_version": "^0.13.2",
      "model_name": "LeafletMapStyleModel",
      "state": {
       "_model_module_version": "^0.13.2"
      }
     },
     "ef83390f3bbc426fa31a8a11e15b0bac": {
      "model_module": "jupyter-leaflet",
      "model_module_version": "^0.13.2",
      "model_name": "LeafletAttributionControlModel",
      "state": {
       "_model_module_version": "^0.13.2",
       "_view_module_version": "^0.13.2",
       "options": [
        "position",
        "prefix"
       ],
       "position": "bottomright",
       "prefix": "ipyleaflet"
      }
     },
     "f05bd8ffb11c467ebb1b2e24ab2e348d": {
      "model_module": "jupyter-leaflet",
      "model_module_version": "^0.13.2",
      "model_name": "LeafletMapStyleModel",
      "state": {
       "_model_module_version": "^0.13.2"
      }
     },
     "f3fce52e911e4a0380e8820d6b30637f": {
      "model_module": "jupyter-leaflet",
      "model_module_version": "^0.13.2",
      "model_name": "LeafletMapModel",
      "state": {
       "_model_module_version": "^0.13.2",
       "_view_module_version": "^0.13.2",
       "bottom": 1549,
       "center": [
        52.204793,
        360.121558
       ],
       "controls": [
        "IPY_MODEL_109573a08bf54dac95b2a8be6f8ac247",
        "IPY_MODEL_749a56167db04c16937a8424917842a5"
       ],
       "default_style": "IPY_MODEL_bcedca96e21a408196f74fd2a2e24435",
       "dragging_style": "IPY_MODEL_fb2cd8629fa14bbca691fe578a4b4fd0",
       "east": 403.24218750000006,
       "fullscreen": false,
       "interpolation": "bilinear",
       "layers": [
        "IPY_MODEL_ba57f42e095d4685a1a65a927b34205a",
        "IPY_MODEL_eb2732eb81af44989eff3a22e66e44ff"
       ],
       "layout": "IPY_MODEL_42a6f28f0b4a40be8b730135a0d079f8",
       "left": 5655,
       "modisdate": "yesterday",
       "north": 61.73152565113397,
       "options": [
        "bounce_at_zoom_limits",
        "box_zoom",
        "center",
        "close_popup_on_click",
        "double_click_zoom",
        "dragging",
        "fullscreen",
        "inertia",
        "inertia_deceleration",
        "inertia_max_speed",
        "interpolation",
        "keyboard",
        "keyboard_pan_offset",
        "keyboard_zoom_offset",
        "max_zoom",
        "min_zoom",
        "scroll_wheel_zoom",
        "tap",
        "tap_tolerance",
        "touch_zoom",
        "world_copy_jump",
        "zoom",
        "zoom_animation_threshold",
        "zoom_delta",
        "zoom_snap",
        "zoom_start"
       ],
       "right": 6636,
       "south": 40.111688665595956,
       "style": "IPY_MODEL_10c1d5c3c48943429b3b25e9a16b0de3",
       "top": 1149,
       "west": 180,
       "window_url": "http://localhost:8888/notebooks/jupytext.ipynb",
       "zoom": 4
      }
     },
     "f441c38c1094427f9d8739ca740afc38": {
      "model_module": "jupyter-leaflet",
      "model_module_version": "^0.13.2",
      "model_name": "LeafletMarkerModel",
      "state": {
       "_model_module_version": "^0.13.2",
       "_view_module_version": "^0.13.2",
       "location": [
        52.204793,
        360.121558
       ],
       "options": [
        "alt",
        "draggable",
        "keyboard",
        "rise_offset",
        "rise_on_hover",
        "rotation_angle",
        "rotation_origin",
        "title",
        "z_index_offset"
       ]
      }
     },
     "fb2cd8629fa14bbca691fe578a4b4fd0": {
      "model_module": "jupyter-leaflet",
      "model_module_version": "^0.13.2",
      "model_name": "LeafletMapStyleModel",
      "state": {
       "_model_module_version": "^0.13.2",
       "cursor": "move"
      }
     },
     "fba72d0491ed41aab544a69ec36e4751": {
      "model_module": "jupyter-leaflet",
      "model_module_version": "^0.13.2",
      "model_name": "LeafletZoomControlModel",
      "state": {
       "_model_module_version": "^0.13.2",
       "_view_module_version": "^0.13.2",
       "options": [
        "position",
        "zoom_in_text",
        "zoom_in_title",
        "zoom_out_text",
        "zoom_out_title"
       ]
      }
     }
    },
    "version_major": 2,
    "version_minor": 0
   }
  }
 },
 "nbformat": 4,
 "nbformat_minor": 4
}
