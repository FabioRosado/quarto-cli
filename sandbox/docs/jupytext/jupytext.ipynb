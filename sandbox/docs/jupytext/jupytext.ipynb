{
 "cells": [
  {
   "cell_type": "raw",
   "metadata": {},
   "source": [
    "---\n",
    "title: \"Here we go boys\"\n",
    "author: \"J.J. Allaire\"\n",
    "knit: quarto render\n",
    "format:\n",
    "  html:\n",
    "    keep-md: true\n",
    "    self-contained: false\n",
    "    fig-width: 8\n",
    "    fig-height: 2\n",
    "execute:\n",
    "  include-code: false\n",
    "  include-warnings: true\n",
    "bibliography: references.bib\n",
    "---"
   ]
  },
  {
   "cell_type": "code",
   "execution_count": 1,
   "metadata": {
    "lines_to_next_cell": 2,
    "tags": [
     "remove-cell"
    ]
   },
   "outputs": [],
   "source": [
    "import os\n",
    "import warnings"
   ]
  },
  {
   "cell_type": "code",
   "execution_count": 2,
   "metadata": {
    "class": "foo bar",
    "lines_to_next_cell": 2,
    "tags": [
     "include-code",
     "allow-errors",
     "raises-exception"
    ]
   },
   "outputs": [
    {
     "name": "stdout",
     "output_type": "stream",
     "text": [
      "here we go again\n"
     ]
    },
    {
     "name": "stderr",
     "output_type": "stream",
     "text": [
      "<ipython-input-2-ca42c58c466d>:2: UserWarning: we better watch out!\n",
      "  warnings.warn(\"we better watch out!\")\n"
     ]
    }
   ],
   "source": [
    "print(\"here we go again\")\n",
    "warnings.warn(\"we better watch out!\")"
   ]
  },
  {
   "cell_type": "markdown",
   "metadata": {},
   "source": [
    "## Leaflet"
   ]
  },
  {
   "cell_type": "code",
   "execution_count": null,
   "metadata": {
    "lines_to_next_cell": 2,
    "tags": [
     "no-execute"
    ]
   },
   "outputs": [],
   "source": [
    "from ipyleaflet import Map, Marker, basemaps, basemap_to_tiles\n",
    "m = Map(\n",
    "    basemap=basemap_to_tiles(basemaps.NASAGIBS.ModisTerraTrueColorCR, \"2017-04-08\"),\n",
    "    center=(52.204793, 360.121558),\n",
    "    zoom=4\n",
    ")\n",
    "m.add_layer(Marker(location=(52.204793, 360.121558)))\n",
    "m"
   ]
  },
  {
   "cell_type": "markdown",
   "metadata": {},
   "source": [
    "## Visual Editor\n",
    "\n",
    "@pirzada2020\n",
    "\n",
    "## iTables"
   ]
  },
  {
   "cell_type": "code",
   "execution_count": 3,
   "metadata": {},
   "outputs": [
    {
     "data": {
      "application/javascript": [
       "require.config({\n",
       "    paths: {\n",
       "        datatables: 'https://cdn.datatables.net/1.10.19/js/jquery.dataTables.min',\n",
       "    }\n",
       "});\n",
       "\n",
       "$('head').append('<link rel=\"stylesheet\" type=\"text/css\" \\\n",
       "                href = \"https://cdn.datatables.net/1.10.19/css/jquery.dataTables.min.css\" > ');\n",
       "\n",
       "$('head').append('<style> table td { text-overflow: ellipsis; overflow: hidden; } </style>');\n",
       "\n",
       "$('head').append(`<script>\n",
       "function eval_functions(map_or_text) {\n",
       "    if (typeof map_or_text === \"string\") {\n",
       "        if (map_or_text.startsWith(\"function\")) {\n",
       "            try {\n",
       "                // Note: parenthesis are required around the whole expression for eval to return a value!\n",
       "                // See https://stackoverflow.com/a/7399078/911298.\n",
       "                //\n",
       "                // eval(\"local_fun = \" + map_or_text) would fail because local_fun is not declared\n",
       "                // (using var, let or const would work, but it would only be declared in the local scope\n",
       "                // and therefore the value could not be retrieved).\n",
       "                const func = eval(\"(\" + map_or_text + \")\");\n",
       "                if (typeof func !== \"function\") {\n",
       "                    // Note: backquotes are super convenient!\n",
       "                    // https://developer.mozilla.org/en-US/docs/Web/JavaScript/Reference/Template_literals\n",
       "                    console.error(\"Evaluated expression \" + map_or_text + \" is not a function (type is \" + typeof func + \")\");\n",
       "                    return map_or_text;\n",
       "                }\n",
       "                // Return the function\n",
       "                return func;\n",
       "            } catch (e) {\n",
       "                // Make sure to print the error with a second argument to console.error().\n",
       "                console.error(\"itables was not able to parse \" + map_or_text, e);\n",
       "            }\n",
       "        }\n",
       "    } else if (typeof map_or_text === \"object\") {\n",
       "        if (map_or_text instanceof Array) {\n",
       "            // Note: \"var\" is now superseded by \"let\" and \"const\".\n",
       "            // https://medium.com/javascript-scene/javascript-es6-var-let-or-const-ba58b8dcde75\n",
       "            const result = [];\n",
       "            // Note: \"for of\" is the best way to iterate through an iterable.\n",
       "            // https://developer.mozilla.org/en-US/docs/Web/JavaScript/Reference/Statements/for...of\n",
       "            for (const item of map_or_text) {\n",
       "                result.push(eval_functions(item));\n",
       "            }\n",
       "            return result;\n",
       "\n",
       "            // Alternatively, more functional approach in one line:\n",
       "            // return map_or_text.map(eval_functions);\n",
       "        } else {\n",
       "            const result = {};\n",
       "            // Object.keys() is safer than \"for in\" because otherwise you might have keys\n",
       "            // that aren't defined in the object itself.\n",
       "            //\n",
       "            // See https://stackoverflow.com/a/684692/911298.\n",
       "            for (const item of Object.keys(map_or_text)) {\n",
       "                result[item] = eval_functions(map_or_text[item]);\n",
       "            }\n",
       "            return result;\n",
       "        }\n",
       "    }\n",
       "\n",
       "    return map_or_text;\n",
       "}\n",
       "</` + 'script>');"
      ],
      "text/plain": [
       "<IPython.core.display.Javascript object>"
      ]
     },
     "metadata": {},
     "output_type": "display_data"
    },
    {
     "data": {
      "text/html": [
       "<div><table id=\"b5f58c66-eba1-4e13-a5e0-43c5ef43c669\" class=\"display\"><thead>\n",
       "    <tr style=\"text-align: right;\">\n",
       "      <th></th>\n",
       "      <th>iso2Code</th>\n",
       "      <th>name</th>\n",
       "      <th>region</th>\n",
       "      <th>adminregion</th>\n",
       "      <th>incomeLevel</th>\n",
       "      <th>lendingType</th>\n",
       "      <th>capitalCity</th>\n",
       "      <th>longitude</th>\n",
       "      <th>latitude</th>\n",
       "    </tr>\n",
       "    <tr>\n",
       "      <th>id</th>\n",
       "      <th></th>\n",
       "      <th></th>\n",
       "      <th></th>\n",
       "      <th></th>\n",
       "      <th></th>\n",
       "      <th></th>\n",
       "      <th></th>\n",
       "      <th></th>\n",
       "      <th></th>\n",
       "    </tr>\n",
       "  </thead></table>\n",
       "<script type=\"text/javascript\">\n",
       "require([\"datatables\"], function (datatables) {\n",
       "    $(document).ready(function () {        \n",
       "        var dt_args = {\"columnDefs\": [{\"width\": \"70px\", \"targets\": \"_all\"}], \"data\": [[\"ABW\", \"AW\", \"Aruba\", \"Latin America & Caribbean \", \"\", \"High income\", \"Not classified\", \"Oranjestad\", -70.0167, 12.5167], [\"AFG\", \"AF\", \"Afghanistan\", \"South Asia\", \"South Asia\", \"Low income\", \"IDA\", \"Kabul\", 69.1761, 34.5228], [\"AFR\", \"A9\", \"Africa\", \"Aggregates\", \"\", \"Aggregates\", \"Aggregates\", \"\", NaN, NaN], [\"AGO\", \"AO\", \"Angola\", \"Sub-Saharan Africa \", \"Sub-Saharan Africa (excluding high income)\", \"Lower middle income\", \"IBRD\", \"Luanda\", 13.242, -8.81155], [\"ALB\", \"AL\", \"Albania\", \"Europe & Central Asia\", \"Europe & Central Asia (excluding high income)\", \"Upper middle income\", \"IBRD\", \"Tirane\", 19.8172, 41.3317], [\"AND\", \"AD\", \"Andorra\", \"Europe & Central Asia\", \"\", \"High income\", \"Not classified\", \"Andorra la Vella\", 1.5218, 42.5075], [\"ANR\", \"L5\", \"Andean Region\", \"Aggregates\", \"\", \"Aggregates\", \"Aggregates\", \"\", NaN, NaN], [\"ARB\", \"1A\", \"Arab World\", \"Aggregates\", \"\", \"Aggregates\", \"Aggregates\", \"\", NaN, NaN], [\"ARE\", \"AE\", \"United Arab Emirates\", \"Middle East & North Africa\", \"\", \"High income\", \"Not classified\", \"Abu Dhabi\", 54.3705, 24.4764], [\"ARG\", \"AR\", \"Argentina\", \"Latin America & Caribbean \", \"Latin America & Caribbean (excluding high income)\", \"Upper middle income\", \"IBRD\", \"Buenos Aires\", -58.4173, -34.6118], [\"ARM\", \"AM\", \"Armenia\", \"Europe & Central Asia\", \"Europe & Central Asia (excluding high income)\", \"Upper middle income\", \"IBRD\", \"Yerevan\", 44.509, 40.1596], [\"ASM\", \"AS\", \"American Samoa\", \"East Asia & Pacific\", \"East Asia & Pacific (excluding high income)\", \"Upper middle income\", \"Not classified\", \"Pago Pago\", -170.691, -14.2846], [\"ATG\", \"AG\", \"Antigua and Barbuda\", \"Latin America & Caribbean \", \"\", \"High income\", \"IBRD\", \"Saint John's\", -61.8456, 17.1175], [\"AUS\", \"AU\", \"Australia\", \"East Asia & Pacific\", \"\", \"High income\", \"Not classified\", \"Canberra\", 149.129, -35.282], [\"AUT\", \"AT\", \"Austria\", \"Europe & Central Asia\", \"\", \"High income\", \"Not classified\", \"Vienna\", 16.3798, 48.2201], [\"AZE\", \"AZ\", \"Azerbaijan\", \"Europe & Central Asia\", \"Europe & Central Asia (excluding high income)\", \"Upper middle income\", \"IBRD\", \"Baku\", 49.8932, 40.3834], [\"BDI\", \"BI\", \"Burundi\", \"Sub-Saharan Africa \", \"Sub-Saharan Africa (excluding high income)\", \"Low income\", \"IDA\", \"Bujumbura\", 29.3639, -3.3784], [\"BEA\", \"B4\", \"East Asia & Pacific (IBRD-only countries)\", \"Aggregates\", \"\", \"Aggregates\", \"Aggregates\", \"\", NaN, NaN], [\"BEC\", \"B7\", \"Europe & Central Asia (IBRD-only countries)\", \"Aggregates\", \"\", \"Aggregates\", \"Aggregates\", \"\", NaN, NaN], [\"BEL\", \"BE\", \"Belgium\", \"Europe & Central Asia\", \"\", \"High income\", \"Not classified\", \"Brussels\", 4.36761, 50.8371], [\"BEN\", \"BJ\", \"Benin\", \"Sub-Saharan Africa \", \"Sub-Saharan Africa (excluding high income)\", \"Lower middle income\", \"IDA\", \"Porto-Novo\", 2.6323, 6.4779], [\"BFA\", \"BF\", \"Burkina Faso\", \"Sub-Saharan Africa \", \"Sub-Saharan Africa (excluding high income)\", \"Low income\", \"IDA\", \"Ouagadougou\", -1.53395, 12.3605], [\"BGD\", \"BD\", \"Bangladesh\", \"South Asia\", \"South Asia\", \"Lower middle income\", \"IDA\", \"Dhaka\", 90.4113, 23.7055], [\"BGR\", \"BG\", \"Bulgaria\", \"Europe & Central Asia\", \"Europe & Central Asia (excluding high income)\", \"Upper middle income\", \"IBRD\", \"Sofia\", 23.3238, 42.7105], [\"BHI\", \"B1\", \"IBRD countries classified as high income\", \"Aggregates\", \"\", \"Aggregates\", \"Aggregates\", \"\", NaN, NaN], [\"BHR\", \"BH\", \"Bahrain\", \"Middle East & North Africa\", \"\", \"High income\", \"Not classified\", \"Manama\", 50.5354, 26.1921], [\"BHS\", \"BS\", \"Bahamas, The\", \"Latin America & Caribbean \", \"\", \"High income\", \"Not classified\", \"Nassau\", -77.339, 25.0661], [\"BIH\", \"BA\", \"Bosnia and Herzegovina\", \"Europe & Central Asia\", \"Europe & Central Asia (excluding high income)\", \"Upper middle income\", \"IBRD\", \"Sarajevo\", 18.4214, 43.8607], [\"BLA\", \"B2\", \"Latin America & the Caribbean (IBRD-only countries)\", \"Aggregates\", \"\", \"Aggregates\", \"Aggregates\", \"\", NaN, NaN], [\"BLR\", \"BY\", \"Belarus\", \"Europe & Central Asia\", \"Europe & Central Asia (excluding high income)\", \"Upper middle income\", \"IBRD\", \"Minsk\", 27.5766, 53.9678], [\"BLZ\", \"BZ\", \"Belize\", \"Latin America & Caribbean \", \"Latin America & Caribbean (excluding high income)\", \"Upper middle income\", \"IBRD\", \"Belmopan\", -88.7713, 17.2534], [\"BMN\", \"B3\", \"Middle East & North Africa (IBRD-only countries)\", \"Aggregates\", \"\", \"Aggregates\", \"Aggregates\", \"\", NaN, NaN], [\"BMU\", \"BM\", \"Bermuda\", \"North America\", \"\", \"High income\", \"Not classified\", \"Hamilton\", -64.706, 32.3293], [\"BOL\", \"BO\", \"Bolivia\", \"Latin America & Caribbean \", \"Latin America & Caribbean (excluding high income)\", \"Lower middle income\", \"IBRD\", \"La Paz\", -66.1936, -13.9908], [\"BRA\", \"BR\", \"Brazil\", \"Latin America & Caribbean \", \"Latin America & Caribbean (excluding high income)\", \"Upper middle income\", \"IBRD\", \"Brasilia\", -47.9292, -15.7801], [\"BRB\", \"BB\", \"Barbados\", \"Latin America & Caribbean \", \"\", \"High income\", \"Not classified\", \"Bridgetown\", -59.6105, 13.0935], [\"BRN\", \"BN\", \"Brunei Darussalam\", \"East Asia & Pacific\", \"\", \"High income\", \"Not classified\", \"Bandar Seri Begawan\", 114.946, 4.94199], [\"BSS\", \"B6\", \"Sub-Saharan Africa (IBRD-only countries)\", \"Aggregates\", \"\", \"Aggregates\", \"Aggregates\", \"\", NaN, NaN], [\"BTN\", \"BT\", \"Bhutan\", \"South Asia\", \"South Asia\", \"Lower middle income\", \"IDA\", \"Thimphu\", 89.6177, 27.5768], [\"BWA\", \"BW\", \"Botswana\", \"Sub-Saharan Africa \", \"Sub-Saharan Africa (excluding high income)\", \"Upper middle income\", \"IBRD\", \"Gaborone\", 25.9201, -24.6544], [\"CAA\", \"C9\", \"Sub-Saharan Africa (IFC classification)\", \"Aggregates\", \"\", \"Aggregates\", \"Aggregates\", \"\", NaN, NaN], [\"CAF\", \"CF\", \"Central African Republic\", \"Sub-Saharan Africa \", \"Sub-Saharan Africa (excluding high income)\", \"Low income\", \"IDA\", \"Bangui\", 21.6407, 5.63056], [\"CAN\", \"CA\", \"Canada\", \"North America\", \"\", \"High income\", \"Not classified\", \"Ottawa\", -75.6919, 45.4215], [\"CEA\", \"C4\", \"East Asia and the Pacific (IFC classification)\", \"Aggregates\", \"\", \"Aggregates\", \"Aggregates\", \"\", NaN, NaN], [\"CEB\", \"B8\", \"Central Europe and the Baltics\", \"Aggregates\", \"\", \"Aggregates\", \"Aggregates\", \"\", NaN, NaN], [\"CEU\", \"C5\", \"Europe and Central Asia (IFC classification)\", \"Aggregates\", \"\", \"Aggregates\", \"Aggregates\", \"\", NaN, NaN], [\"CHE\", \"CH\", \"Switzerland\", \"Europe & Central Asia\", \"\", \"High income\", \"Not classified\", \"Bern\", 7.44821, 46.948], [\"CHI\", \"JG\", \"Channel Islands\", \"Europe & Central Asia\", \"\", \"High income\", \"Not classified\", \"\", NaN, NaN], [\"CHL\", \"CL\", \"Chile\", \"Latin America & Caribbean \", \"\", \"High income\", \"IBRD\", \"Santiago\", -70.6475, -33.475], [\"CHN\", \"CN\", \"China\", \"East Asia & Pacific\", \"East Asia & Pacific (excluding high income)\", \"Upper middle income\", \"IBRD\", \"Beijing\", 116.286, 40.0495], [\"CIV\", \"CI\", \"Cote d'Ivoire\", \"Sub-Saharan Africa \", \"Sub-Saharan Africa (excluding high income)\", \"Lower middle income\", \"IDA\", \"Yamoussoukro\", -4.0305, 5.332], [\"CLA\", \"C6\", \"Latin America and the Caribbean (IFC classification)\", \"Aggregates\", \"\", \"Aggregates\", \"Aggregates\", \"\", NaN, NaN], [\"CME\", \"C7\", \"Middle East and North Africa (IFC classification)\", \"Aggregates\", \"\", \"Aggregates\", \"Aggregates\", \"\", NaN, NaN], [\"CMR\", \"CM\", \"Cameroon\", \"Sub-Saharan Africa \", \"Sub-Saharan Africa (excluding high income)\", \"Lower middle income\", \"Blend\", \"Yaounde\", 11.5174, 3.8721], [\"COD\", \"CD\", \"Congo, Dem. Rep.\", \"Sub-Saharan Africa \", \"Sub-Saharan Africa (excluding high income)\", \"Low income\", \"IDA\", \"Kinshasa\", 15.3222, -4.325], [\"COG\", \"CG\", \"Congo, Rep.\", \"Sub-Saharan Africa \", \"Sub-Saharan Africa (excluding high income)\", \"Lower middle income\", \"Blend\", \"Brazzaville\", 15.2662, -4.2767], [\"COL\", \"CO\", \"Colombia\", \"Latin America & Caribbean \", \"Latin America & Caribbean (excluding high income)\", \"Upper middle income\", \"IBRD\", \"Bogota\", -74.082, 4.60987], [\"COM\", \"KM\", \"Comoros\", \"Sub-Saharan Africa \", \"Sub-Saharan Africa (excluding high income)\", \"Lower middle income\", \"IDA\", \"Moroni\", 43.2418, -11.6986], [\"CPV\", \"CV\", \"Cabo Verde\", \"Sub-Saharan Africa \", \"Sub-Saharan Africa (excluding high income)\", \"Lower middle income\", \"Blend\", \"Praia\", -23.5087, 14.9218], [\"CRI\", \"CR\", \"Costa Rica\", \"Latin America & Caribbean \", \"Latin America & Caribbean (excluding high income)\", \"Upper middle income\", \"IBRD\", \"San Jose\", -84.0089, 9.63701], [\"CSA\", \"C8\", \"South Asia (IFC classification)\", \"Aggregates\", \"\", \"Aggregates\", \"Aggregates\", \"\", NaN, NaN], [\"CSS\", \"S3\", \"Caribbean small states\", \"Aggregates\", \"\", \"Aggregates\", \"Aggregates\", \"\", NaN, NaN], [\"CUB\", \"CU\", \"Cuba\", \"Latin America & Caribbean \", \"Latin America & Caribbean (excluding high income)\", \"Upper middle income\", \"Not classified\", \"Havana\", -82.3667, 23.1333], [\"CUW\", \"CW\", \"Curacao\", \"Latin America & Caribbean \", \"\", \"High income\", \"Not classified\", \"Willemstad\", NaN, NaN], [\"CYM\", \"KY\", \"Cayman Islands\", \"Latin America & Caribbean \", \"\", \"High income\", \"Not classified\", \"George Town\", -81.3857, 19.3022], [\"CYP\", \"CY\", \"Cyprus\", \"Europe & Central Asia\", \"\", \"High income\", \"Not classified\", \"Nicosia\", 33.3736, 35.1676], [\"CZE\", \"CZ\", \"Czech Republic\", \"Europe & Central Asia\", \"\", \"High income\", \"Not classified\", \"Prague\", 14.4205, 50.0878], [\"DEA\", \"D4\", \"East Asia & Pacific (IDA-eligible countries)\", \"Aggregates\", \"\", \"Aggregates\", \"Aggregates\", \"\", NaN, NaN], [\"DEC\", \"D7\", \"Europe & Central Asia (IDA-eligible countries)\", \"Aggregates\", \"\", \"Aggregates\", \"Aggregates\", \"\", NaN, NaN], [\"DEU\", \"DE\", \"Germany\", \"Europe & Central Asia\", \"\", \"High income\", \"Not classified\", \"Berlin\", 13.4115, 52.5235], [\"DFS\", \"D8\", \"IDA countries classified as Fragile Situations\", \"Aggregates\", \"\", \"Aggregates\", \"Aggregates\", \"\", NaN, NaN], [\"DJI\", \"DJ\", \"Djibouti\", \"Middle East & North Africa\", \"Middle East & North Africa (excluding high income)\", \"Lower middle income\", \"IDA\", \"Djibouti\", 43.1425, 11.5806], [\"DLA\", \"D2\", \"Latin America & the Caribbean (IDA-eligible countries)\", \"Aggregates\", \"\", \"Aggregates\", \"Aggregates\", \"\", NaN, NaN], [\"DMA\", \"DM\", \"Dominica\", \"Latin America & Caribbean \", \"Latin America & Caribbean (excluding high income)\", \"Upper middle income\", \"Blend\", \"Roseau\", -61.39, 15.2976], [\"DMN\", \"D3\", \"Middle East & North Africa (IDA-eligible countries)\", \"Aggregates\", \"\", \"Aggregates\", \"Aggregates\", \"\", NaN, NaN], [\"DNF\", \"D9\", \"IDA countries not classified as Fragile Situations\", \"Aggregates\", \"\", \"Aggregates\", \"Aggregates\", \"\", NaN, NaN], [\"DNK\", \"DK\", \"Denmark\", \"Europe & Central Asia\", \"\", \"High income\", \"Not classified\", \"Copenhagen\", 12.5681, 55.6763], [\"DNS\", \"N6\", \"IDA countries in Sub-Saharan Africa not classified as fragile situations \", \"Aggregates\", \"\", \"Aggregates\", \"Aggregates\", \"\", NaN, NaN], [\"DOM\", \"DO\", \"Dominican Republic\", \"Latin America & Caribbean \", \"Latin America & Caribbean (excluding high income)\", \"Upper middle income\", \"IBRD\", \"Santo Domingo\", -69.8908, 18.479], [\"DSA\", \"D5\", \"South Asia (IDA-eligible countries)\", \"Aggregates\", \"\", \"Aggregates\", \"Aggregates\", \"\", NaN, NaN], [\"DSF\", \"F6\", \"IDA countries in Sub-Saharan Africa classified as fragile situations \", \"Aggregates\", \"\", \"Aggregates\", \"Aggregates\", \"\", NaN, NaN], [\"DSS\", \"D6\", \"Sub-Saharan Africa (IDA-eligible countries)\", \"Aggregates\", \"\", \"Aggregates\", \"Aggregates\", \"\", NaN, NaN], [\"DXS\", \"6D\", \"IDA total, excluding Sub-Saharan Africa\", \"Aggregates\", \"\", \"Aggregates\", \"Aggregates\", \"\", NaN, NaN], [\"DZA\", \"DZ\", \"Algeria\", \"Middle East & North Africa\", \"Middle East & North Africa (excluding high income)\", \"Lower middle income\", \"IBRD\", \"Algiers\", 3.05097, 36.7397], [\"EAP\", \"4E\", \"East Asia & Pacific (excluding high income)\", \"Aggregates\", \"\", \"Aggregates\", \"Aggregates\", \"\", NaN, NaN], [\"EAR\", \"V2\", \"Early-demographic dividend\", \"Aggregates\", \"\", \"Aggregates\", \"Aggregates\", \"\", NaN, NaN], [\"EAS\", \"Z4\", \"East Asia & Pacific\", \"Aggregates\", \"\", \"Aggregates\", \"Aggregates\", \"\", NaN, NaN], [\"ECA\", \"7E\", \"Europe & Central Asia (excluding high income)\", \"Aggregates\", \"\", \"Aggregates\", \"Aggregates\", \"\", NaN, NaN], [\"ECS\", \"Z7\", \"Europe & Central Asia\", \"Aggregates\", \"\", \"Aggregates\", \"Aggregates\", \"\", NaN, NaN], [\"ECU\", \"EC\", \"Ecuador\", \"Latin America & Caribbean \", \"Latin America & Caribbean (excluding high income)\", \"Upper middle income\", \"IBRD\", \"Quito\", -78.5243, -0.229498], [\"EGY\", \"EG\", \"Egypt, Arab Rep.\", \"Middle East & North Africa\", \"Middle East & North Africa (excluding high income)\", \"Lower middle income\", \"IBRD\", \"Cairo\", 31.2461, 30.0982], [\"EMU\", \"XC\", \"Euro area\", \"Aggregates\", \"\", \"Aggregates\", \"Aggregates\", \"\", NaN, NaN], [\"ERI\", \"ER\", \"Eritrea\", \"Sub-Saharan Africa \", \"Sub-Saharan Africa (excluding high income)\", \"Low income\", \"IDA\", \"Asmara\", 38.9183, 15.3315], [\"ESP\", \"ES\", \"Spain\", \"Europe & Central Asia\", \"\", \"High income\", \"Not classified\", \"Madrid\", -3.70327, 40.4167], [\"EST\", \"EE\", \"Estonia\", \"Europe & Central Asia\", \"\", \"High income\", \"Not classified\", \"Tallinn\", 24.7586, 59.4392], [\"ETH\", \"ET\", \"Ethiopia\", \"Sub-Saharan Africa \", \"Sub-Saharan Africa (excluding high income)\", \"Low income\", \"IDA\", \"Addis Ababa\", 38.7468, 9.02274], [\"EUU\", \"EU\", \"European Union\", \"Aggregates\", \"\", \"Aggregates\", \"Aggregates\", \"\", NaN, NaN], [\"FCS\", \"F1\", \"Fragile and conflict affected situations\", \"Aggregates\", \"\", \"Aggregates\", \"Aggregates\", \"\", NaN, NaN], [\"FIN\", \"FI\", \"Finland\", \"Europe & Central Asia\", \"\", \"High income\", \"Not classified\", \"Helsinki\", 24.9525, 60.1608], [\"FJI\", \"FJ\", \"Fiji\", \"East Asia & Pacific\", \"East Asia & Pacific (excluding high income)\", \"Upper middle income\", \"Blend\", \"Suva\", 178.399, -18.1149], [\"FRA\", \"FR\", \"France\", \"Europe & Central Asia\", \"\", \"High income\", \"Not classified\", \"Paris\", 2.35097, 48.8566], [\"FRO\", \"FO\", \"Faroe Islands\", \"Europe & Central Asia\", \"\", \"High income\", \"Not classified\", \"Torshavn\", -6.91181, 61.8926], [\"FSM\", \"FM\", \"Micronesia, Fed. Sts.\", \"East Asia & Pacific\", \"East Asia & Pacific (excluding high income)\", \"Lower middle income\", \"IDA\", \"Palikir\", 158.185, 6.91771], [\"FXS\", \"6F\", \"IDA countries classified as fragile situations, excluding Sub-Saharan Africa\", \"Aggregates\", \"\", \"Aggregates\", \"Aggregates\", \"\", NaN, NaN], [\"GAB\", \"GA\", \"Gabon\", \"Sub-Saharan Africa \", \"Sub-Saharan Africa (excluding high income)\", \"Upper middle income\", \"IBRD\", \"Libreville\", 9.45162, 0.38832], [\"GBR\", \"GB\", \"United Kingdom\", \"Europe & Central Asia\", \"\", \"High income\", \"Not classified\", \"London\", -0.126236, 51.5002], [\"GEO\", \"GE\", \"Georgia\", \"Europe & Central Asia\", \"Europe & Central Asia (excluding high income)\", \"Upper middle income\", \"IBRD\", \"Tbilisi\", 44.793, 41.71], [\"GHA\", \"GH\", \"Ghana\", \"Sub-Saharan Africa \", \"Sub-Saharan Africa (excluding high income)\", \"Lower middle income\", \"IDA\", \"Accra\", -0.20795, 5.57045], [\"GIB\", \"GI\", \"Gibraltar\", \"Europe & Central Asia\", \"\", \"High income\", \"Not classified\", \"\", NaN, NaN], [\"GIN\", \"GN\", \"Guinea\", \"Sub-Saharan Africa \", \"Sub-Saharan Africa (excluding high income)\", \"Low income\", \"IDA\", \"Conakry\", -13.7, 9.51667], [\"GMB\", \"GM\", \"Gambia, The\", \"Sub-Saharan Africa \", \"Sub-Saharan Africa (excluding high income)\", \"Low income\", \"IDA\", \"Banjul\", -16.5885, 13.4495], [\"GNB\", \"GW\", \"Guinea-Bissau\", \"Sub-Saharan Africa \", \"Sub-Saharan Africa (excluding high income)\", \"Low income\", \"IDA\", \"Bissau\", -15.1804, 11.8037], [\"GNQ\", \"GQ\", \"Equatorial Guinea\", \"Sub-Saharan Africa \", \"Sub-Saharan Africa (excluding high income)\", \"Upper middle income\", \"IBRD\", \"Malabo\", 8.7741, 3.7523], [\"GRC\", \"GR\", \"Greece\", \"Europe & Central Asia\", \"\", \"High income\", \"Not classified\", \"Athens\", 23.7166, 37.9792], [\"GRD\", \"GD\", \"Grenada\", \"Latin America & Caribbean \", \"Latin America & Caribbean (excluding high income)\", \"Upper middle income\", \"Blend\", \"Saint George's\", -61.7449, 12.0653], [\"GRL\", \"GL\", \"Greenland\", \"Europe & Central Asia\", \"\", \"High income\", \"Not classified\", \"Nuuk\", -51.7214, 64.1836], [\"GTM\", \"GT\", \"Guatemala\", \"Latin America & Caribbean \", \"Latin America & Caribbean (excluding high income)\", \"Upper middle income\", \"IBRD\", \"Guatemala City\", -90.5328, 14.6248], [\"GUM\", \"GU\", \"Guam\", \"East Asia & Pacific\", \"\", \"High income\", \"Not classified\", \"Agana\", 144.794, 13.4443], [\"GUY\", \"GY\", \"Guyana\", \"Latin America & Caribbean \", \"Latin America & Caribbean (excluding high income)\", \"Upper middle income\", \"IDA\", \"Georgetown\", -58.1548, 6.80461], [\"HIC\", \"XD\", \"High income\", \"Aggregates\", \"\", \"Aggregates\", \"Aggregates\", \"\", NaN, NaN], [\"HKG\", \"HK\", \"Hong Kong SAR, China\", \"East Asia & Pacific\", \"\", \"High income\", \"Not classified\", \"\", 114.109, 22.3964], [\"HND\", \"HN\", \"Honduras\", \"Latin America & Caribbean \", \"Latin America & Caribbean (excluding high income)\", \"Lower middle income\", \"IDA\", \"Tegucigalpa\", -87.4667, 15.1333], [\"HPC\", \"XE\", \"Heavily indebted poor countries (HIPC)\", \"Aggregates\", \"\", \"Aggregates\", \"Aggregates\", \"\", NaN, NaN], [\"HRV\", \"HR\", \"Croatia\", \"Europe & Central Asia\", \"\", \"High income\", \"IBRD\", \"Zagreb\", 15.9614, 45.8069], [\"HTI\", \"HT\", \"Haiti\", \"Latin America & Caribbean \", \"Latin America & Caribbean (excluding high income)\", \"Low income\", \"IDA\", \"Port-au-Prince\", -72.3288, 18.5392], [\"HUN\", \"HU\", \"Hungary\", \"Europe & Central Asia\", \"\", \"High income\", \"Not classified\", \"Budapest\", 19.0408, 47.4984], [\"IBB\", \"ZB\", \"IBRD, including blend\", \"Aggregates\", \"\", \"Aggregates\", \"Aggregates\", \"\", NaN, NaN], [\"IBD\", \"XF\", \"IBRD only\", \"Aggregates\", \"\", \"Aggregates\", \"Aggregates\", \"\", NaN, NaN], [\"IBT\", \"ZT\", \"IDA & IBRD total\", \"Aggregates\", \"\", \"Aggregates\", \"Aggregates\", \"\", NaN, NaN], [\"IDA\", \"XG\", \"IDA total\", \"Aggregates\", \"\", \"Aggregates\", \"Aggregates\", \"\", NaN, NaN], [\"IDB\", \"XH\", \"IDA blend\", \"Aggregates\", \"\", \"Aggregates\", \"Aggregates\", \"\", NaN, NaN], [\"IDN\", \"ID\", \"Indonesia\", \"East Asia & Pacific\", \"East Asia & Pacific (excluding high income)\", \"Upper middle income\", \"IBRD\", \"Jakarta\", 106.83, -6.19752], [\"IDX\", \"XI\", \"IDA only\", \"Aggregates\", \"\", \"Aggregates\", \"Aggregates\", \"\", NaN, NaN], [\"IMN\", \"IM\", \"Isle of Man\", \"Europe & Central Asia\", \"\", \"High income\", \"Not classified\", \"Douglas\", -4.47928, 54.1509], [\"IND\", \"IN\", \"India\", \"South Asia\", \"South Asia\", \"Lower middle income\", \"IBRD\", \"New Delhi\", 77.225, 28.6353], [\"INX\", \"XY\", \"Not classified\", \"Aggregates\", \"\", \"Aggregates\", \"Aggregates\", \"\", NaN, NaN], [\"IRL\", \"IE\", \"Ireland\", \"Europe & Central Asia\", \"\", \"High income\", \"Not classified\", \"Dublin\", -6.26749, 53.3441], [\"IRN\", \"IR\", \"Iran, Islamic Rep.\", \"Middle East & North Africa\", \"Middle East & North Africa (excluding high income)\", \"Upper middle income\", \"IBRD\", \"Tehran\", 51.4447, 35.6878], [\"IRQ\", \"IQ\", \"Iraq\", \"Middle East & North Africa\", \"Middle East & North Africa (excluding high income)\", \"Upper middle income\", \"IBRD\", \"Baghdad\", 44.394, 33.3302], [\"ISL\", \"IS\", \"Iceland\", \"Europe & Central Asia\", \"\", \"High income\", \"Not classified\", \"Reykjavik\", -21.8952, 64.1353], [\"ISR\", \"IL\", \"Israel\", \"Middle East & North Africa\", \"\", \"High income\", \"Not classified\", \"\", 35.2035, 31.7717], [\"ITA\", \"IT\", \"Italy\", \"Europe & Central Asia\", \"\", \"High income\", \"Not classified\", \"Rome\", 12.4823, 41.8955], [\"JAM\", \"JM\", \"Jamaica\", \"Latin America & Caribbean \", \"Latin America & Caribbean (excluding high income)\", \"Upper middle income\", \"IBRD\", \"Kingston\", -76.792, 17.9927], [\"JOR\", \"JO\", \"Jordan\", \"Middle East & North Africa\", \"Middle East & North Africa (excluding high income)\", \"Upper middle income\", \"IBRD\", \"Amman\", 35.9263, 31.9497], [\"JPN\", \"JP\", \"Japan\", \"East Asia & Pacific\", \"\", \"High income\", \"Not classified\", \"Tokyo\", 139.77, 35.67], [\"KAZ\", \"KZ\", \"Kazakhstan\", \"Europe & Central Asia\", \"Europe & Central Asia (excluding high income)\", \"Upper middle income\", \"IBRD\", \"Astana\", 71.4382, 51.1879], [\"KEN\", \"KE\", \"Kenya\", \"Sub-Saharan Africa \", \"Sub-Saharan Africa (excluding high income)\", \"Lower middle income\", \"Blend\", \"Nairobi\", 36.8126, -1.27975], [\"KGZ\", \"KG\", \"Kyrgyz Republic\", \"Europe & Central Asia\", \"Europe & Central Asia (excluding high income)\", \"Lower middle income\", \"IDA\", \"Bishkek\", 74.6057, 42.8851], [\"KHM\", \"KH\", \"Cambodia\", \"East Asia & Pacific\", \"East Asia & Pacific (excluding high income)\", \"Lower middle income\", \"IDA\", \"Phnom Penh\", 104.874, 11.5556], [\"KIR\", \"KI\", \"Kiribati\", \"East Asia & Pacific\", \"East Asia & Pacific (excluding high income)\", \"Lower middle income\", \"IDA\", \"Tarawa\", 172.979, 1.32905], [\"KNA\", \"KN\", \"St. Kitts and Nevis\", \"Latin America & Caribbean \", \"\", \"High income\", \"IBRD\", \"Basseterre\", -62.7309, 17.3], [\"KOR\", \"KR\", \"Korea, Rep.\", \"East Asia & Pacific\", \"\", \"High income\", \"Not classified\", \"Seoul\", 126.957, 37.5323], [\"KWT\", \"KW\", \"Kuwait\", \"Middle East & North Africa\", \"\", \"High income\", \"Not classified\", \"Kuwait City\", 47.9824, 29.3721], [\"LAC\", \"XJ\", \"Latin America & Caribbean (excluding high income)\", \"Aggregates\", \"\", \"Aggregates\", \"Aggregates\", \"\", NaN, NaN], [\"LAO\", \"LA\", \"Lao PDR\", \"East Asia & Pacific\", \"East Asia & Pacific (excluding high income)\", \"Lower middle income\", \"IDA\", \"Vientiane\", 102.177, 18.5826], [\"LBN\", \"LB\", \"Lebanon\", \"Middle East & North Africa\", \"Middle East & North Africa (excluding high income)\", \"Upper middle income\", \"IBRD\", \"Beirut\", 35.5134, 33.8872], [\"LBR\", \"LR\", \"Liberia\", \"Sub-Saharan Africa \", \"Sub-Saharan Africa (excluding high income)\", \"Low income\", \"IDA\", \"Monrovia\", -10.7957, 6.30039], [\"LBY\", \"LY\", \"Libya\", \"Middle East & North Africa\", \"Middle East & North Africa (excluding high income)\", \"Upper middle income\", \"IBRD\", \"Tripoli\", 13.1072, 32.8578], [\"LCA\", \"LC\", \"St. Lucia\", \"Latin America & Caribbean \", \"Latin America & Caribbean (excluding high income)\", \"Upper middle income\", \"Blend\", \"Castries\", -60.9832, 14.0], [\"LCN\", \"ZJ\", \"Latin America & Caribbean \", \"Aggregates\", \"\", \"Aggregates\", \"Aggregates\", \"\", NaN, NaN], [\"LCR\", \"L4\", \"Latin America and the Caribbean\", \"Aggregates\", \"\", \"Aggregates\", \"Aggregates\", \"\", NaN, NaN], [\"LDC\", \"XL\", \"Least developed countries: UN classification\", \"Aggregates\", \"\", \"Aggregates\", \"Aggregates\", \"\", NaN, NaN], [\"LIC\", \"XM\", \"Low income\", \"Aggregates\", \"\", \"Aggregates\", \"Aggregates\", \"\", NaN, NaN], [\"LIE\", \"LI\", \"Liechtenstein\", \"Europe & Central Asia\", \"\", \"High income\", \"Not classified\", \"Vaduz\", 9.52148, 47.1411], [\"LKA\", \"LK\", \"Sri Lanka\", \"South Asia\", \"South Asia\", \"Lower middle income\", \"IBRD\", \"Colombo\", 79.8528, 6.92148], [\"LMC\", \"XN\", \"Lower middle income\", \"Aggregates\", \"\", \"Aggregates\", \"Aggregates\", \"\", NaN, NaN], [\"LMY\", \"XO\", \"Low & middle income\", \"Aggregates\", \"\", \"Aggregates\", \"Aggregates\", \"\", NaN, NaN], [\"LSO\", \"LS\", \"Lesotho\", \"Sub-Saharan Africa \", \"Sub-Saharan Africa (excluding high income)\", \"Lower middle income\", \"IDA\", \"Maseru\", 27.7167, -29.5208], [\"LTE\", \"V3\", \"Late-demographic dividend\", \"Aggregates\", \"\", \"Aggregates\", \"Aggregates\", \"\", NaN, NaN], [\"LTU\", \"LT\", \"Lithuania\", \"Europe & Central Asia\", \"\", \"High income\", \"Not classified\", \"Vilnius\", 25.2799, 54.6896], [\"LUX\", \"LU\", \"Luxembourg\", \"Europe & Central Asia\", \"\", \"High income\", \"Not classified\", \"Luxembourg\", 6.1296, 49.61], [\"LVA\", \"LV\", \"Latvia\", \"Europe & Central Asia\", \"\", \"High income\", \"Not classified\", \"Riga\", 24.1048, 56.9465], [\"MAC\", \"MO\", \"Macao SAR, China\", \"East Asia & Pacific\", \"\", \"High income\", \"Not classified\", \"\", 113.55, 22.1667], [\"MAF\", \"MF\", \"St. Martin (French part)\", \"Latin America & Caribbean \", \"\", \"High income\", \"Not classified\", \"Marigot\", NaN, NaN], [\"MAR\", \"MA\", \"Morocco\", \"Middle East & North Africa\", \"Middle East & North Africa (excluding high income)\", \"Lower middle income\", \"IBRD\", \"Rabat\", -6.8704, 33.9905], [\"MCA\", \"L6\", \"Central America\", \"Aggregates\", \"\", \"Aggregates\", \"Aggregates\", \"\", NaN, NaN], [\"MCO\", \"MC\", \"Monaco\", \"Europe & Central Asia\", \"\", \"High income\", \"Not classified\", \"Monaco\", 7.41891, 43.7325], [\"MDA\", \"MD\", \"Moldova\", \"Europe & Central Asia\", \"Europe & Central Asia (excluding high income)\", \"Lower middle income\", \"IBRD\", \"Chisinau\", 28.8497, 47.0167], [\"MDE\", \"M1\", \"Middle East (developing only)\", \"Aggregates\", \"\", \"Aggregates\", \"Aggregates\", \"\", NaN, NaN], [\"MDG\", \"MG\", \"Madagascar\", \"Sub-Saharan Africa \", \"Sub-Saharan Africa (excluding high income)\", \"Low income\", \"IDA\", \"Antananarivo\", 45.7167, -20.4667], [\"MDV\", \"MV\", \"Maldives\", \"South Asia\", \"South Asia\", \"Upper middle income\", \"IDA\", \"Male\", 73.5109, 4.1742], [\"MEA\", \"ZQ\", \"Middle East & North Africa\", \"Aggregates\", \"\", \"Aggregates\", \"Aggregates\", \"\", NaN, NaN], [\"MEX\", \"MX\", \"Mexico\", \"Latin America & Caribbean \", \"Latin America & Caribbean (excluding high income)\", \"Upper middle income\", \"IBRD\", \"Mexico City\", -99.1276, 19.427], [\"MHL\", \"MH\", \"Marshall Islands\", \"East Asia & Pacific\", \"East Asia & Pacific (excluding high income)\", \"Upper middle income\", \"IDA\", \"Majuro\", 171.135, 7.11046], [\"MIC\", \"XP\", \"Middle income\", \"Aggregates\", \"\", \"Aggregates\", \"Aggregates\", \"\", NaN, NaN], [\"MKD\", \"MK\", \"North Macedonia\", \"Europe & Central Asia\", \"Europe & Central Asia (excluding high income)\", \"Upper middle income\", \"IBRD\", \"Skopje\", 21.4361, 42.0024], [\"MLI\", \"ML\", \"Mali\", \"Sub-Saharan Africa \", \"Sub-Saharan Africa (excluding high income)\", \"Low income\", \"IDA\", \"Bamako\", -7.50034, 13.5667], [\"MLT\", \"MT\", \"Malta\", \"Middle East & North Africa\", \"\", \"High income\", \"Not classified\", \"Valletta\", 14.5189, 35.9042], [\"MMR\", \"MM\", \"Myanmar\", \"East Asia & Pacific\", \"East Asia & Pacific (excluding high income)\", \"Lower middle income\", \"IDA\", \"Naypyidaw\", 95.9562, 21.914], [\"MNA\", \"XQ\", \"Middle East & North Africa (excluding high income)\", \"Aggregates\", \"\", \"Aggregates\", \"Aggregates\", \"\", NaN, NaN], [\"MNE\", \"ME\", \"Montenegro\", \"Europe & Central Asia\", \"Europe & Central Asia (excluding high income)\", \"Upper middle income\", \"IBRD\", \"Podgorica\", 19.2595, 42.4602], [\"MNG\", \"MN\", \"Mongolia\", \"East Asia & Pacific\", \"East Asia & Pacific (excluding high income)\", \"Lower middle income\", \"IBRD\", \"Ulaanbaatar\", 106.937, 47.9129], [\"MNP\", \"MP\", \"Northern Mariana Islands\", \"East Asia & Pacific\", \"\", \"High income\", \"Not classified\", \"Saipan\", 145.765, 15.1935], [\"MOZ\", \"MZ\", \"Mozambique\", \"Sub-Saharan Africa \", \"Sub-Saharan Africa (excluding high income)\", \"Low income\", \"IDA\", \"Maputo\", 32.5713, -25.9664], [\"MRT\", \"MR\", \"Mauritania\", \"Sub-Saharan Africa \", \"Sub-Saharan Africa (excluding high income)\", \"Lower middle income\", \"IDA\", \"Nouakchott\", -15.9824, 18.2367], [\"MUS\", \"MU\", \"Mauritius\", \"Sub-Saharan Africa \", \"\", \"High income\", \"IBRD\", \"Port Louis\", 57.4977, -20.1605], [\"MWI\", \"MW\", \"Malawi\", \"Sub-Saharan Africa \", \"Sub-Saharan Africa (excluding high income)\", \"Low income\", \"IDA\", \"Lilongwe\", 33.7703, -13.9899], [\"MYS\", \"MY\", \"Malaysia\", \"East Asia & Pacific\", \"East Asia & Pacific (excluding high income)\", \"Upper middle income\", \"IBRD\", \"Kuala Lumpur\", 101.684, 3.12433], [\"NAC\", \"XU\", \"North America\", \"Aggregates\", \"\", \"Aggregates\", \"Aggregates\", \"\", NaN, NaN], [\"NAF\", \"M2\", \"North Africa\", \"Aggregates\", \"\", \"Aggregates\", \"Aggregates\", \"\", NaN, NaN], [\"NAM\", \"NA\", \"Namibia\", \"Sub-Saharan Africa \", \"Sub-Saharan Africa (excluding high income)\", \"Upper middle income\", \"IBRD\", \"Windhoek\", 17.0931, -22.5648], [\"NCL\", \"NC\", \"New Caledonia\", \"East Asia & Pacific\", \"\", \"High income\", \"Not classified\", \"Noum'ea\", 166.464, -22.2677], [\"NER\", \"NE\", \"Niger\", \"Sub-Saharan Africa \", \"Sub-Saharan Africa (excluding high income)\", \"Low income\", \"IDA\", \"Niamey\", 2.1073, 13.514], [\"NGA\", \"NG\", \"Nigeria\", \"Sub-Saharan Africa \", \"Sub-Saharan Africa (excluding high income)\", \"Lower middle income\", \"Blend\", \"Abuja\", 7.48906, 9.05804], [\"NIC\", \"NI\", \"Nicaragua\", \"Latin America & Caribbean \", \"Latin America & Caribbean (excluding high income)\", \"Lower middle income\", \"IDA\", \"Managua\", -86.2734, 12.1475], [\"NLD\", \"NL\", \"Netherlands\", \"Europe & Central Asia\", \"\", \"High income\", \"Not classified\", \"Amsterdam\", 4.89095, 52.3738], [\"NLS\", \"6L\", \"Non-resource rich Sub-Saharan Africa countries, of which landlocked\", \"Aggregates\", \"\", \"Aggregates\", \"Aggregates\", \"\", NaN, NaN], [\"NOR\", \"NO\", \"Norway\", \"Europe & Central Asia\", \"\", \"High income\", \"Not classified\", \"Oslo\", 10.7387, 59.9138], [\"NPL\", \"NP\", \"Nepal\", \"South Asia\", \"South Asia\", \"Lower middle income\", \"IDA\", \"Kathmandu\", 85.3157, 27.6939], [\"NRS\", \"6X\", \"Non-resource rich Sub-Saharan Africa countries\", \"Aggregates\", \"\", \"Aggregates\", \"Aggregates\", \"\", NaN, NaN], [\"NRU\", \"NR\", \"Nauru\", \"East Asia & Pacific\", \"\", \"High income\", \"IBRD\", \"Yaren District\", 166.920867, -0.5477], [\"NXS\", \"6N\", \"IDA countries not classified as fragile situations, excluding Sub-Saharan Africa\", \"Aggregates\", \"\", \"Aggregates\", \"Aggregates\", \"\", NaN, NaN], [\"NZL\", \"NZ\", \"New Zealand\", \"East Asia & Pacific\", \"\", \"High income\", \"Not classified\", \"Wellington\", 174.776, -41.2865], [\"OED\", \"OE\", \"OECD members\", \"Aggregates\", \"\", \"Aggregates\", \"Aggregates\", \"\", NaN, NaN], [\"OMN\", \"OM\", \"Oman\", \"Middle East & North Africa\", \"\", \"High income\", \"Not classified\", \"Muscat\", 58.5874, 23.6105], [\"OSS\", \"S4\", \"Other small states\", \"Aggregates\", \"\", \"Aggregates\", \"Aggregates\", \"\", NaN, NaN], [\"PAK\", \"PK\", \"Pakistan\", \"South Asia\", \"South Asia\", \"Lower middle income\", \"Blend\", \"Islamabad\", 72.8, 30.5167], [\"PAN\", \"PA\", \"Panama\", \"Latin America & Caribbean \", \"\", \"High income\", \"IBRD\", \"Panama City\", -79.5188, 8.99427], [\"PER\", \"PE\", \"Peru\", \"Latin America & Caribbean \", \"Latin America & Caribbean (excluding high income)\", \"Upper middle income\", \"IBRD\", \"Lima\", -77.0465, -12.0931], [\"PHL\", \"PH\", \"Philippines\", \"East Asia & Pacific\", \"East Asia & Pacific (excluding high income)\", \"Lower middle income\", \"IBRD\", \"Manila\", 121.035, 14.5515], [\"PLW\", \"PW\", \"Palau\", \"East Asia & Pacific\", \"\", \"High income\", \"IBRD\", \"Koror\", 134.479, 7.34194], [\"PNG\", \"PG\", \"Papua New Guinea\", \"East Asia & Pacific\", \"East Asia & Pacific (excluding high income)\", \"Lower middle income\", \"Blend\", \"Port Moresby\", 147.194, -9.47357], [\"POL\", \"PL\", \"Poland\", \"Europe & Central Asia\", \"\", \"High income\", \"IBRD\", \"Warsaw\", 21.02, 52.26], [\"PRE\", \"V1\", \"Pre-demographic dividend\", \"Aggregates\", \"\", \"Aggregates\", \"Aggregates\", \"\", NaN, NaN], [\"PRI\", \"PR\", \"Puerto Rico\", \"Latin America & Caribbean \", \"\", \"High income\", \"Not classified\", \"San Juan\", -66.0, 18.23], [\"PRK\", \"KP\", \"Korea, Dem. People\\u2019s Rep.\", \"East Asia & Pacific\", \"East Asia & Pacific (excluding high income)\", \"Low income\", \"Not classified\", \"Pyongyang\", 125.754, 39.0319], [\"PRT\", \"PT\", \"Portugal\", \"Europe & Central Asia\", \"\", \"High income\", \"Not classified\", \"Lisbon\", -9.13552, 38.7072], [\"PRY\", \"PY\", \"Paraguay\", \"Latin America & Caribbean \", \"Latin America & Caribbean (excluding high income)\", \"Upper middle income\", \"IBRD\", \"Asuncion\", -57.6362, -25.3005], [\"PSE\", \"PS\", \"West Bank and Gaza\", \"Middle East & North Africa\", \"Middle East & North Africa (excluding high income)\", \"Lower middle income\", \"Not classified\", \"\", NaN, NaN], [\"PSS\", \"S2\", \"Pacific island small states\", \"Aggregates\", \"\", \"Aggregates\", \"Aggregates\", \"\", NaN, NaN], [\"PST\", \"V4\", \"Post-demographic dividend\", \"Aggregates\", \"\", \"Aggregates\", \"Aggregates\", \"\", NaN, NaN], [\"PYF\", \"PF\", \"French Polynesia\", \"East Asia & Pacific\", \"\", \"High income\", \"Not classified\", \"Papeete\", -149.57, -17.535], [\"QAT\", \"QA\", \"Qatar\", \"Middle East & North Africa\", \"\", \"High income\", \"Not classified\", \"Doha\", 51.5082, 25.2948], [\"ROU\", \"RO\", \"Romania\", \"Europe & Central Asia\", \"\", \"High income\", \"IBRD\", \"Bucharest\", 26.0979, 44.4479], [\"RRS\", \"R6\", \"Resource rich Sub-Saharan Africa countries\", \"Aggregates\", \"\", \"Aggregates\", \"Aggregates\", \"\", NaN, NaN], [\"RSO\", \"O6\", \"Resource rich Sub-Saharan Africa countries, of which oil exporters\", \"Aggregates\", \"\", \"Aggregates\", \"Aggregates\", \"\", NaN, NaN], [\"RUS\", \"RU\", \"Russian Federation\", \"Europe & Central Asia\", \"Europe & Central Asia (excluding high income)\", \"Upper middle income\", \"IBRD\", \"Moscow\", 37.6176, 55.7558], [\"RWA\", \"RW\", \"Rwanda\", \"Sub-Saharan Africa \", \"Sub-Saharan Africa (excluding high income)\", \"Low income\", \"IDA\", \"Kigali\", 30.0587, -1.95325], [\"SAS\", \"8S\", \"South Asia\", \"Aggregates\", \"\", \"Aggregates\", \"Aggregates\", \"\", NaN, NaN], [\"SAU\", \"SA\", \"Saudi Arabia\", \"Middle East & North Africa\", \"\", \"High income\", \"Not classified\", \"Riyadh\", 46.6977, 24.6748], [\"SCE\", \"L7\", \"Southern Cone\", \"Aggregates\", \"\", \"Aggregates\", \"Aggregates\", \"\", NaN, NaN], [\"SDN\", \"SD\", \"Sudan\", \"Sub-Saharan Africa \", \"Sub-Saharan Africa (excluding high income)\", \"Low income\", \"IDA\", \"Khartoum\", 32.5363, 15.5932], [\"SEN\", \"SN\", \"Senegal\", \"Sub-Saharan Africa \", \"Sub-Saharan Africa (excluding high income)\", \"Lower middle income\", \"IDA\", \"Dakar\", -17.4734, 14.7247], [\"SGP\", \"SG\", \"Singapore\", \"East Asia & Pacific\", \"\", \"High income\", \"Not classified\", \"Singapore\", 103.85, 1.28941], [\"SLB\", \"SB\", \"Solomon Islands\", \"East Asia & Pacific\", \"East Asia & Pacific (excluding high income)\", \"Lower middle income\", \"IDA\", \"Honiara\", 159.949, -9.42676], [\"SLE\", \"SL\", \"Sierra Leone\", \"Sub-Saharan Africa \", \"Sub-Saharan Africa (excluding high income)\", \"Low income\", \"IDA\", \"Freetown\", -13.2134, 8.4821], [\"SLV\", \"SV\", \"El Salvador\", \"Latin America & Caribbean \", \"Latin America & Caribbean (excluding high income)\", \"Lower middle income\", \"IBRD\", \"San Salvador\", -89.2073, 13.7034], [\"SMR\", \"SM\", \"San Marino\", \"Europe & Central Asia\", \"\", \"High income\", \"Not classified\", \"San Marino\", 12.4486, 43.9322], [\"SOM\", \"SO\", \"Somalia\", \"Sub-Saharan Africa \", \"Sub-Saharan Africa (excluding high income)\", \"Low income\", \"IDA\", \"Mogadishu\", 45.3254, 2.07515], [\"SRB\", \"RS\", \"Serbia\", \"Europe & Central Asia\", \"Europe & Central Asia (excluding high income)\", \"Upper middle income\", \"IBRD\", \"Belgrade\", 20.4656, 44.8024], [\"SSA\", \"ZF\", \"Sub-Saharan Africa (excluding high income)\", \"Aggregates\", \"\", \"Aggregates\", \"Aggregates\", \"\", NaN, NaN], [\"SSD\", \"SS\", \"South Sudan\", \"Sub-Saharan Africa \", \"Sub-Saharan Africa (excluding high income)\", \"Low income\", \"IDA\", \"Juba\", 31.6, 4.85], [\"SSF\", \"ZG\", \"Sub-Saharan Africa \", \"Aggregates\", \"\", \"Aggregates\", \"Aggregates\", \"\", NaN, NaN], [\"SST\", \"S1\", \"Small states\", \"Aggregates\", \"\", \"Aggregates\", \"Aggregates\", \"\", NaN, NaN], [\"STP\", \"ST\", \"Sao Tome and Principe\", \"Sub-Saharan Africa \", \"Sub-Saharan Africa (excluding high income)\", \"Lower middle income\", \"IDA\", \"Sao Tome\", 6.6071, 0.20618], [\"SUR\", \"SR\", \"Suriname\", \"Latin America & Caribbean \", \"Latin America & Caribbean (excluding high income)\", \"Upper middle income\", \"IBRD\", \"Paramaribo\", -55.1679, 5.8232], [\"SVK\", \"SK\", \"Slovak Republic\", \"Europe & Central Asia\", \"\", \"High income\", \"Not classified\", \"Bratislava\", 17.1073, 48.1484], [\"SVN\", \"SI\", \"Slovenia\", \"Europe & Central Asia\", \"\", \"High income\", \"Not classified\", \"Ljubljana\", 14.5044, 46.0546], [\"SWE\", \"SE\", \"Sweden\", \"Europe & Central Asia\", \"\", \"High income\", \"Not classified\", \"Stockholm\", 18.0645, 59.3327], [\"SWZ\", \"SZ\", \"Eswatini\", \"Sub-Saharan Africa \", \"Sub-Saharan Africa (excluding high income)\", \"Lower middle income\", \"IBRD\", \"Mbabane\", 31.4659, -26.5225], [\"SXM\", \"SX\", \"Sint Maarten (Dutch part)\", \"Latin America & Caribbean \", \"\", \"High income\", \"Not classified\", \"Philipsburg\", NaN, NaN], [\"SXZ\", \"A4\", \"Sub-Saharan Africa excluding South Africa\", \"Aggregates\", \"\", \"Aggregates\", \"Aggregates\", \"\", NaN, NaN], [\"SYC\", \"SC\", \"Seychelles\", \"Sub-Saharan Africa \", \"\", \"High income\", \"IBRD\", \"Victoria\", 55.4466, -4.6309], [\"SYR\", \"SY\", \"Syrian Arab Republic\", \"Middle East & North Africa\", \"Middle East & North Africa (excluding high income)\", \"Low income\", \"IDA\", \"Damascus\", 36.3119, 33.5146], [\"TCA\", \"TC\", \"Turks and Caicos Islands\", \"Latin America & Caribbean \", \"\", \"High income\", \"Not classified\", \"Grand Turk\", -71.141389, 21.460278], [\"TCD\", \"TD\", \"Chad\", \"Sub-Saharan Africa \", \"Sub-Saharan Africa (excluding high income)\", \"Low income\", \"IDA\", \"N'Djamena\", 15.0445, 12.1048], [\"TEA\", \"T4\", \"East Asia & Pacific (IDA & IBRD countries)\", \"Aggregates\", \"\", \"Aggregates\", \"Aggregates\", \"\", NaN, NaN], [\"TEC\", \"T7\", \"Europe & Central Asia (IDA & IBRD countries)\", \"Aggregates\", \"\", \"Aggregates\", \"Aggregates\", \"\", NaN, NaN], [\"TGO\", \"TG\", \"Togo\", \"Sub-Saharan Africa \", \"Sub-Saharan Africa (excluding high income)\", \"Low income\", \"IDA\", \"Lome\", 1.2255, 6.1228], [\"THA\", \"TH\", \"Thailand\", \"East Asia & Pacific\", \"East Asia & Pacific (excluding high income)\", \"Upper middle income\", \"IBRD\", \"Bangkok\", 100.521, 13.7308], [\"TJK\", \"TJ\", \"Tajikistan\", \"Europe & Central Asia\", \"Europe & Central Asia (excluding high income)\", \"Low income\", \"IDA\", \"Dushanbe\", 68.7864, 38.5878], [\"TKM\", \"TM\", \"Turkmenistan\", \"Europe & Central Asia\", \"Europe & Central Asia (excluding high income)\", \"Upper middle income\", \"IBRD\", \"Ashgabat\", 58.3794, 37.9509], [\"TLA\", \"T2\", \"Latin America & the Caribbean (IDA & IBRD countries)\", \"Aggregates\", \"\", \"Aggregates\", \"Aggregates\", \"\", NaN, NaN], [\"TLS\", \"TL\", \"Timor-Leste\", \"East Asia & Pacific\", \"East Asia & Pacific (excluding high income)\", \"Lower middle income\", \"Blend\", \"Dili\", 125.567, -8.56667], [\"TMN\", \"T3\", \"Middle East & North Africa (IDA & IBRD countries)\", \"Aggregates\", \"\", \"Aggregates\", \"Aggregates\", \"\", NaN, NaN], [\"TON\", \"TO\", \"Tonga\", \"East Asia & Pacific\", \"East Asia & Pacific (excluding high income)\", \"Upper middle income\", \"IDA\", \"Nuku'alofa\", -175.216, -21.136], [\"TSA\", \"T5\", \"South Asia (IDA & IBRD)\", \"Aggregates\", \"\", \"Aggregates\", \"Aggregates\", \"\", NaN, NaN], [\"TSS\", \"T6\", \"Sub-Saharan Africa (IDA & IBRD countries)\", \"Aggregates\", \"\", \"Aggregates\", \"Aggregates\", \"\", NaN, NaN], [\"TTO\", \"TT\", \"Trinidad and Tobago\", \"Latin America & Caribbean \", \"\", \"High income\", \"IBRD\", \"Port-of-Spain\", -61.4789, 10.6596], [\"TUN\", \"TN\", \"Tunisia\", \"Middle East & North Africa\", \"Middle East & North Africa (excluding high income)\", \"Lower middle income\", \"IBRD\", \"Tunis\", 10.21, 36.7899], [\"TUR\", \"TR\", \"Turkey\", \"Europe & Central Asia\", \"Europe & Central Asia (excluding high income)\", \"Upper middle income\", \"IBRD\", \"Ankara\", 32.3606, 39.7153], [\"TUV\", \"TV\", \"Tuvalu\", \"East Asia & Pacific\", \"East Asia & Pacific (excluding high income)\", \"Upper middle income\", \"IDA\", \"Funafuti\", 179.089567, -8.631488], [\"TWN\", \"TW\", \"Taiwan, China\", \"East Asia & Pacific\", \"\", \"High income\", \"Not classified\", \"\", NaN, NaN], [\"TZA\", \"TZ\", \"Tanzania\", \"Sub-Saharan Africa \", \"Sub-Saharan Africa (excluding high income)\", \"Lower middle income\", \"IDA\", \"Dodoma\", 35.7382, -6.17486], [\"UGA\", \"UG\", \"Uganda\", \"Sub-Saharan Africa \", \"Sub-Saharan Africa (excluding high income)\", \"Low income\", \"IDA\", \"Kampala\", 32.5729, 0.314269], [\"UKR\", \"UA\", \"Ukraine\", \"Europe & Central Asia\", \"Europe & Central Asia (excluding high income)\", \"Lower middle income\", \"IBRD\", \"Kiev\", 30.5038, 50.4536], [\"UMC\", \"XT\", \"Upper middle income\", \"Aggregates\", \"\", \"Aggregates\", \"Aggregates\", \"\", NaN, NaN], [\"URY\", \"UY\", \"Uruguay\", \"Latin America & Caribbean \", \"\", \"High income\", \"IBRD\", \"Montevideo\", -56.0675, -34.8941], [\"USA\", \"US\", \"United States\", \"North America\", \"\", \"High income\", \"Not classified\", \"Washington D.C.\", -77.032, 38.8895], [\"UZB\", \"UZ\", \"Uzbekistan\", \"Europe & Central Asia\", \"Europe & Central Asia (excluding high income)\", \"Lower middle income\", \"Blend\", \"Tashkent\", 69.269, 41.3052], [\"VCT\", \"VC\", \"St. Vincent and the Grenadines\", \"Latin America & Caribbean \", \"Latin America & Caribbean (excluding high income)\", \"Upper middle income\", \"Blend\", \"Kingstown\", -61.2653, 13.2035], [\"VEN\", \"VE\", \"Venezuela, RB\", \"Latin America & Caribbean \", \"Latin America & Caribbean (excluding high income)\", \"Upper middle income\", \"IBRD\", \"Caracas\", -69.8371, 9.08165], [\"VGB\", \"VG\", \"British Virgin Islands\", \"Latin America & Caribbean \", \"\", \"High income\", \"Not classified\", \"Road Town\", -64.623056, 18.431389], [\"VIR\", \"VI\", \"Virgin Islands (U.S.)\", \"Latin America & Caribbean \", \"\", \"High income\", \"Not classified\", \"Charlotte Amalie\", -64.8963, 18.3358], [\"VNM\", \"VN\", \"Vietnam\", \"East Asia & Pacific\", \"East Asia & Pacific (excluding high income)\", \"Lower middle income\", \"IBRD\", \"Hanoi\", 105.825, 21.0069], [\"VUT\", \"VU\", \"Vanuatu\", \"East Asia & Pacific\", \"East Asia & Pacific (excluding high income)\", \"Lower middle income\", \"IDA\", \"Port-Vila\", 168.321, -17.7404], [\"WLD\", \"1W\", \"World\", \"Aggregates\", \"\", \"Aggregates\", \"Aggregates\", \"\", NaN, NaN], [\"WSM\", \"WS\", \"Samoa\", \"East Asia & Pacific\", \"East Asia & Pacific (excluding high income)\", \"Upper middle income\", \"IDA\", \"Apia\", -171.752, -13.8314], [\"XKX\", \"XK\", \"Kosovo\", \"Europe & Central Asia\", \"Europe & Central Asia (excluding high income)\", \"Upper middle income\", \"IDA\", \"Pristina\", 20.926, 42.565], [\"XZN\", \"A5\", \"Sub-Saharan Africa excluding South Africa and Nigeria\", \"Aggregates\", \"\", \"Aggregates\", \"Aggregates\", \"\", NaN, NaN], [\"YEM\", \"YE\", \"Yemen, Rep.\", \"Middle East & North Africa\", \"Middle East & North Africa (excluding high income)\", \"Low income\", \"IDA\", \"Sana'a\", 44.2075, 15.352], [\"ZAF\", \"ZA\", \"South Africa\", \"Sub-Saharan Africa \", \"Sub-Saharan Africa (excluding high income)\", \"Upper middle income\", \"IBRD\", \"Pretoria\", 28.1871, -25.746], [\"ZMB\", \"ZM\", \"Zambia\", \"Sub-Saharan Africa \", \"Sub-Saharan Africa (excluding high income)\", \"Lower middle income\", \"IDA\", \"Lusaka\", 28.2937, -15.3982], [\"ZWE\", \"ZW\", \"Zimbabwe\", \"Sub-Saharan Africa \", \"Sub-Saharan Africa (excluding high income)\", \"Lower middle income\", \"Blend\", \"Harare\", 31.0672, -17.8312]]};\n",
       "        dt_args = eval_functions(dt_args);\n",
       "        table = $('#b5f58c66-eba1-4e13-a5e0-43c5ef43c669').DataTable(dt_args);\n",
       "    });\n",
       "})\n",
       "</script>\n",
       "</div>\n"
      ],
      "text/plain": [
       "    iso2Code                                               name  \\\n",
       "id                                                                \n",
       "ABW       AW                                              Aruba   \n",
       "AFG       AF                                        Afghanistan   \n",
       "AFR       A9                                             Africa   \n",
       "AGO       AO                                             Angola   \n",
       "ALB       AL                                            Albania   \n",
       "..       ...                                                ...   \n",
       "XZN       A5  Sub-Saharan Africa excluding South Africa and ...   \n",
       "YEM       YE                                        Yemen, Rep.   \n",
       "ZAF       ZA                                       South Africa   \n",
       "ZMB       ZM                                             Zambia   \n",
       "ZWE       ZW                                           Zimbabwe   \n",
       "\n",
       "                         region  \\\n",
       "id                                \n",
       "ABW  Latin America & Caribbean    \n",
       "AFG                  South Asia   \n",
       "AFR                  Aggregates   \n",
       "AGO         Sub-Saharan Africa    \n",
       "ALB       Europe & Central Asia   \n",
       "..                          ...   \n",
       "XZN                  Aggregates   \n",
       "YEM  Middle East & North Africa   \n",
       "ZAF         Sub-Saharan Africa    \n",
       "ZMB         Sub-Saharan Africa    \n",
       "ZWE         Sub-Saharan Africa    \n",
       "\n",
       "                                           adminregion          incomeLevel  \\\n",
       "id                                                                            \n",
       "ABW                                                             High income   \n",
       "AFG                                         South Asia           Low income   \n",
       "AFR                                                              Aggregates   \n",
       "AGO         Sub-Saharan Africa (excluding high income)  Lower middle income   \n",
       "ALB      Europe & Central Asia (excluding high income)  Upper middle income   \n",
       "..                                                 ...                  ...   \n",
       "XZN                                                              Aggregates   \n",
       "YEM  Middle East & North Africa (excluding high inc...           Low income   \n",
       "ZAF         Sub-Saharan Africa (excluding high income)  Upper middle income   \n",
       "ZMB         Sub-Saharan Africa (excluding high income)  Lower middle income   \n",
       "ZWE         Sub-Saharan Africa (excluding high income)  Lower middle income   \n",
       "\n",
       "        lendingType capitalCity  longitude  latitude  \n",
       "id                                                    \n",
       "ABW  Not classified  Oranjestad   -70.0167  12.51670  \n",
       "AFG             IDA       Kabul    69.1761  34.52280  \n",
       "AFR      Aggregates                    NaN       NaN  \n",
       "AGO            IBRD      Luanda    13.2420  -8.81155  \n",
       "ALB            IBRD      Tirane    19.8172  41.33170  \n",
       "..              ...         ...        ...       ...  \n",
       "XZN      Aggregates                    NaN       NaN  \n",
       "YEM             IDA      Sana'a    44.2075  15.35200  \n",
       "ZAF            IBRD    Pretoria    28.1871 -25.74600  \n",
       "ZMB             IDA      Lusaka    28.2937 -15.39820  \n",
       "ZWE           Blend      Harare    31.0672 -17.83120  \n",
       "\n",
       "[304 rows x 9 columns]"
      ]
     },
     "execution_count": 3,
     "metadata": {},
     "output_type": "execute_result"
    }
   ],
   "source": [
    "import itables.interactive\n",
    "import world_bank_data as wb\n",
    "\n",
    "df = wb.get_countries()\n",
    "df"
   ]
  },
  {
   "cell_type": "markdown",
   "metadata": {},
   "source": [
    "## Plotly FTW"
   ]
  },
  {
   "cell_type": "code",
   "execution_count": null,
   "metadata": {
    "tags": [
     "no-execute"
    ]
   },
   "outputs": [],
   "source": [
    "import plotly.graph_objects as go\n",
    "fig = go.Figure(\n",
    "    data=[go.Bar(y=[2, 1, 3])],\n",
    "    layout_title_text=\"A Figure Displayed with fig.show()\"\n",
    ")\n",
    "fig.show()"
   ]
  },
  {
   "cell_type": "markdown",
   "metadata": {},
   "source": [
    "## Slide with Plot"
   ]
  },
  {
   "cell_type": "code",
   "execution_count": 4,
   "metadata": {
    "class": ".rich .internet .output",
    "foo": "bar",
    "id": "myplot",
    "lines_to_next_cell": 2,
    "tags": [
     "include-code"
    ]
   },
   "outputs": [
    {
     "data": {
      "application/pdf": "[encoded data removed]",
      "text/plain": [
       "<Figure size 3000x600 with 1 Axes>"
      ]
     },
     "metadata": {
      "needs_background": "light"
     },
     "output_type": "display_data"
    }
   ],
   "source": [
    "import matplotlib.pyplot as plt\n",
    "from IPython.display import set_matplotlib_formats\n",
    "import inspect\n",
    "\n",
    "plt.rcParams['figure.figsize'] = 10, 2\n",
    "set_matplotlib_formats('pdf')\n",
    "\n",
    "labels = ['G1', 'G2', 'G3', 'G4', 'G6']\n",
    "men_means = [20, 35, 30, 35, 27]\n",
    "women_means = [25, 32, 34, 20, 25]\n",
    "men_std = [2, 3, 4, 1, 2]\n",
    "women_std = [3, 5, 2, 3, 3]\n",
    "width = 0.35       # the width of the bars: can also be len(x) sequence\n",
    "\n",
    "fig, ax = plt.subplots()\n",
    "\n",
    "ax.bar(labels, men_means, width, yerr=men_std, label='Men')\n",
    "ax.bar(labels, women_means, width, yerr=women_std, bottom=men_means,\n",
    "       label='Women')\n",
    "\n",
    "ax.set_ylabel('Scores')\n",
    "ax.set_title('Scores broken out by group and gender')\n",
    "ax.legend()\n",
    "plt.show()"
   ]
  },
  {
   "cell_type": "markdown",
   "metadata": {},
   "source": [
    "## Next Slide"
   ]
  },
  {
   "cell_type": "code",
   "execution_count": 5,
   "metadata": {
    "lines_to_next_cell": 0
   },
   "outputs": [],
   "source": [
    "from jupytext.config import find_jupytext_configuration_file\n",
    "find_jupytext_configuration_file('.')"
   ]
  },
  {
   "cell_type": "markdown",
   "metadata": {},
   "source": [
    "\n"
   ]
  }
 ],
 "metadata": {
  "celltoolbar": "Tags",
  "jupytext": {
   "formats": "ipynb,md"
  },
  "kernelspec": {
   "display_name": "Python 3",
   "language": "python",
   "name": "python3"
  },
  "language_info": {
   "codemirror_mode": {
    "name": "ipython",
    "version": 3
   },
   "file_extension": ".py",
   "mimetype": "text/x-python",
   "name": "python",
   "nbconvert_exporter": "python",
   "pygments_lexer": "ipython3",
   "version": "3.8.5"
  },
  "widgets": {
   "application/vnd.jupyter.widget-state+json": {
    "state": {
     "0090fed5fdf143f0b0b55f23fe29829b": {
      "model_module": "jupyter-leaflet",
      "model_module_version": "^0.13.2",
      "model_name": "LeafletTileLayerModel",
      "state": {
       "_model_module_version": "^0.13.2",
       "_view_module_version": "^0.13.2",
       "attribution": "\nImagery provided by services from the Global Imagery Browse Services (GIBS), operated by the NASA/GSFC/Earth Science Data and Information System (<a href=\"https://earthdata.nasa.gov\">ESDIS</a>) with funding provided by NASA/HQ.\n",
       "base": true,
       "max_native_zoom": 18,
       "max_zoom": 9,
       "min_native_zoom": 0,
       "min_zoom": 1,
       "name": "NASAGIBS.ModisTerraTrueColorCR",
       "options": [
        "attribution",
        "detect_retina",
        "max_native_zoom",
        "max_zoom",
        "min_native_zoom",
        "min_zoom",
        "no_wrap",
        "tile_size",
        "tms"
       ],
       "url": "https://gibs.earthdata.nasa.gov/wmts/epsg3857/best/MODIS_Terra_CorrectedReflectance_TrueColor/default/2017-04-08/GoogleMapsCompatible_Level9/{z}/{y}/{x}.jpg"
      }
     },
     "09a937b1074f4508acb182c2016d8942": {
      "model_module": "jupyter-leaflet",
      "model_module_version": "^0.13.2",
      "model_name": "LeafletMapStyleModel",
      "state": {
       "_model_module_version": "^0.13.2"
      }
     },
     "0bd33b0482dc4afdb602b224ca1860db": {
      "model_module": "jupyter-leaflet",
      "model_module_version": "^0.13.2",
      "model_name": "LeafletTileLayerModel",
      "state": {
       "_model_module_version": "^0.13.2",
       "_view_module_version": "^0.13.2",
       "attribution": "\nImagery provided by services from the Global Imagery Browse Services (GIBS), operated by the NASA/GSFC/Earth Science Data and Information System (<a href=\"https://earthdata.nasa.gov\">ESDIS</a>) with funding provided by NASA/HQ.\n",
       "base": true,
       "max_native_zoom": 18,
       "max_zoom": 9,
       "min_native_zoom": 0,
       "min_zoom": 1,
       "name": "NASAGIBS.ModisTerraTrueColorCR",
       "options": [
        "attribution",
        "detect_retina",
        "max_native_zoom",
        "max_zoom",
        "min_native_zoom",
        "min_zoom",
        "no_wrap",
        "tile_size",
        "tms"
       ],
       "url": "https://gibs.earthdata.nasa.gov/wmts/epsg3857/best/MODIS_Terra_CorrectedReflectance_TrueColor/default/2017-04-08/GoogleMapsCompatible_Level9/{z}/{y}/{x}.jpg"
      }
     },
     "0e43fafe078440e1ad8f2fd76c45744f": {
      "model_module": "jupyter-leaflet",
      "model_module_version": "^0.13.2",
      "model_name": "LeafletMapModel",
      "state": {
       "_model_module_version": "^0.13.2",
       "_view_module_version": "^0.13.2",
       "center": [
        52.204793,
        360.121558
       ],
       "controls": [
        "IPY_MODEL_fba72d0491ed41aab544a69ec36e4751",
        "IPY_MODEL_a4141edcc540498b9896215ffcab4429"
       ],
       "default_style": "IPY_MODEL_6370ed55d568498691b106b5b0a75ea6",
       "dragging_style": "IPY_MODEL_bb27a90b0e0141b7a4679c717d83a9e8",
       "fullscreen": false,
       "interpolation": "bilinear",
       "layers": [
        "IPY_MODEL_0090fed5fdf143f0b0b55f23fe29829b",
        "IPY_MODEL_a66665013946479da33944ce73bd618d"
       ],
       "layout": "IPY_MODEL_70ecb6d15c6647e282662d8ab51fd677",
       "modisdate": "yesterday",
       "options": [
        "bounce_at_zoom_limits",
        "box_zoom",
        "center",
        "close_popup_on_click",
        "double_click_zoom",
        "dragging",
        "fullscreen",
        "inertia",
        "inertia_deceleration",
        "inertia_max_speed",
        "interpolation",
        "keyboard",
        "keyboard_pan_offset",
        "keyboard_zoom_offset",
        "max_zoom",
        "min_zoom",
        "scroll_wheel_zoom",
        "tap",
        "tap_tolerance",
        "touch_zoom",
        "world_copy_jump",
        "zoom",
        "zoom_animation_threshold",
        "zoom_delta",
        "zoom_snap",
        "zoom_start"
       ],
       "style": "IPY_MODEL_9cf04cb7665045009d51ab022e2d9183",
       "window_url": "http://localhost:8888/notebooks/jupytext.ipynb",
       "zoom": 4
      }
     },
     "109573a08bf54dac95b2a8be6f8ac247": {
      "model_module": "jupyter-leaflet",
      "model_module_version": "^0.13.2",
      "model_name": "LeafletZoomControlModel",
      "state": {
       "_model_module_version": "^0.13.2",
       "_view_module_version": "^0.13.2",
       "options": [
        "position",
        "zoom_in_text",
        "zoom_in_title",
        "zoom_out_text",
        "zoom_out_title"
       ]
      }
     },
     "10c1d5c3c48943429b3b25e9a16b0de3": {
      "model_module": "jupyter-leaflet",
      "model_module_version": "^0.13.2",
      "model_name": "LeafletMapStyleModel",
      "state": {
       "_model_module_version": "^0.13.2"
      }
     },
     "14844fb804674e79af9292d27c5b98f0": {
      "model_module": "jupyter-leaflet",
      "model_module_version": "^0.13.2",
      "model_name": "LeafletTileLayerModel",
      "state": {
       "_model_module_version": "^0.13.2",
       "_view_module_version": "^0.13.2",
       "attribution": "\nImagery provided by services from the Global Imagery Browse Services (GIBS), operated by the NASA/GSFC/Earth Science Data and Information System (<a href=\"https://earthdata.nasa.gov\">ESDIS</a>) with funding provided by NASA/HQ.\n",
       "base": true,
       "max_native_zoom": 18,
       "max_zoom": 9,
       "min_native_zoom": 0,
       "min_zoom": 1,
       "name": "NASAGIBS.ModisTerraTrueColorCR",
       "options": [
        "attribution",
        "detect_retina",
        "max_native_zoom",
        "max_zoom",
        "min_native_zoom",
        "min_zoom",
        "no_wrap",
        "tile_size",
        "tms"
       ],
       "url": "https://gibs.earthdata.nasa.gov/wmts/epsg3857/best/MODIS_Terra_CorrectedReflectance_TrueColor/default/2017-04-08/GoogleMapsCompatible_Level9/{z}/{y}/{x}.jpg"
      }
     },
     "153549efc21e4d5a9d583486048cd314": {
      "model_module": "jupyter-leaflet",
      "model_module_version": "^0.13.2",
      "model_name": "LeafletTileLayerModel",
      "state": {
       "_model_module_version": "^0.13.2",
       "_view_module_version": "^0.13.2",
       "attribution": "\nImagery provided by services from the Global Imagery Browse Services (GIBS), operated by the NASA/GSFC/Earth Science Data and Information System (<a href=\"https://earthdata.nasa.gov\">ESDIS</a>) with funding provided by NASA/HQ.\n",
       "base": true,
       "max_native_zoom": 18,
       "max_zoom": 9,
       "min_native_zoom": 0,
       "min_zoom": 1,
       "name": "NASAGIBS.ModisTerraTrueColorCR",
       "options": [
        "attribution",
        "detect_retina",
        "max_native_zoom",
        "max_zoom",
        "min_native_zoom",
        "min_zoom",
        "no_wrap",
        "tile_size",
        "tms"
       ],
       "url": "https://gibs.earthdata.nasa.gov/wmts/epsg3857/best/MODIS_Terra_CorrectedReflectance_TrueColor/default/2017-04-08/GoogleMapsCompatible_Level9/{z}/{y}/{x}.jpg"
      }
     },
     "2daaa27fa8224df287f97f71c3447b8a": {
      "model_module": "jupyter-leaflet",
      "model_module_version": "^0.13.2",
      "model_name": "LeafletAttributionControlModel",
      "state": {
       "_model_module_version": "^0.13.2",
       "_view_module_version": "^0.13.2",
       "options": [
        "position",
        "prefix"
       ],
       "position": "bottomright",
       "prefix": "ipyleaflet"
      }
     },
     "2ddc3e1e75a94e3d842993ad2ac08e12": {
      "model_module": "jupyter-leaflet",
      "model_module_version": "^0.13.2",
      "model_name": "LeafletZoomControlModel",
      "state": {
       "_model_module_version": "^0.13.2",
       "_view_module_version": "^0.13.2",
       "options": [
        "position",
        "zoom_in_text",
        "zoom_in_title",
        "zoom_out_text",
        "zoom_out_title"
       ]
      }
     },
     "33c5948724c042869ef3178b566936fd": {
      "model_module": "jupyter-leaflet",
      "model_module_version": "^0.13.2",
      "model_name": "LeafletMapModel",
      "state": {
       "_model_module_version": "^0.13.2",
       "_view_module_version": "^0.13.2",
       "bottom": 1549,
       "center": [
        52.204793,
        360.121558
       ],
       "controls": [
        "IPY_MODEL_3d6002cec1fe4800921a92a808ea64fb",
        "IPY_MODEL_5e8c15f5d60d4256870d4e3e2e1a86ed"
       ],
       "default_style": "IPY_MODEL_09a937b1074f4508acb182c2016d8942",
       "dragging_style": "IPY_MODEL_4ef933e8b349447a9a2d7ed6e5aaf2a4",
       "east": 403.24218750000006,
       "fullscreen": false,
       "interpolation": "bilinear",
       "layers": [
        "IPY_MODEL_153549efc21e4d5a9d583486048cd314",
        "IPY_MODEL_d5cd441c13314a59bbcb492bc57151ec"
       ],
       "layout": "IPY_MODEL_998006cc77ee4c2da052114a55ed0908",
       "left": 5655,
       "modisdate": "yesterday",
       "north": 61.73152565113397,
       "options": [
        "bounce_at_zoom_limits",
        "box_zoom",
        "center",
        "close_popup_on_click",
        "double_click_zoom",
        "dragging",
        "fullscreen",
        "inertia",
        "inertia_deceleration",
        "inertia_max_speed",
        "interpolation",
        "keyboard",
        "keyboard_pan_offset",
        "keyboard_zoom_offset",
        "max_zoom",
        "min_zoom",
        "scroll_wheel_zoom",
        "tap",
        "tap_tolerance",
        "touch_zoom",
        "world_copy_jump",
        "zoom",
        "zoom_animation_threshold",
        "zoom_delta",
        "zoom_snap",
        "zoom_start"
       ],
       "right": 6636,
       "south": 40.111688665595956,
       "style": "IPY_MODEL_5cbc72f3ced04014822b0dc5fab4ab1a",
       "top": 1149,
       "west": 180,
       "window_url": "http://localhost:8888/notebooks/jupytext.ipynb",
       "zoom": 4
      }
     },
     "3d6002cec1fe4800921a92a808ea64fb": {
      "model_module": "jupyter-leaflet",
      "model_module_version": "^0.13.2",
      "model_name": "LeafletZoomControlModel",
      "state": {
       "_model_module_version": "^0.13.2",
       "_view_module_version": "^0.13.2",
       "options": [
        "position",
        "zoom_in_text",
        "zoom_in_title",
        "zoom_out_text",
        "zoom_out_title"
       ]
      }
     },
     "42a6f28f0b4a40be8b730135a0d079f8": {
      "model_module": "@jupyter-widgets/base",
      "model_module_version": "1.2.0",
      "model_name": "LayoutModel",
      "state": {}
     },
     "4ef933e8b349447a9a2d7ed6e5aaf2a4": {
      "model_module": "jupyter-leaflet",
      "model_module_version": "^0.13.2",
      "model_name": "LeafletMapStyleModel",
      "state": {
       "_model_module_version": "^0.13.2",
       "cursor": "move"
      }
     },
     "5cbc72f3ced04014822b0dc5fab4ab1a": {
      "model_module": "jupyter-leaflet",
      "model_module_version": "^0.13.2",
      "model_name": "LeafletMapStyleModel",
      "state": {
       "_model_module_version": "^0.13.2"
      }
     },
     "5e8c15f5d60d4256870d4e3e2e1a86ed": {
      "model_module": "jupyter-leaflet",
      "model_module_version": "^0.13.2",
      "model_name": "LeafletAttributionControlModel",
      "state": {
       "_model_module_version": "^0.13.2",
       "_view_module_version": "^0.13.2",
       "options": [
        "position",
        "prefix"
       ],
       "position": "bottomright",
       "prefix": "ipyleaflet"
      }
     },
     "6370ed55d568498691b106b5b0a75ea6": {
      "model_module": "jupyter-leaflet",
      "model_module_version": "^0.13.2",
      "model_name": "LeafletMapStyleModel",
      "state": {
       "_model_module_version": "^0.13.2"
      }
     },
     "69fa95c836c64b41a98f817656e55907": {
      "model_module": "jupyter-leaflet",
      "model_module_version": "^0.13.2",
      "model_name": "LeafletZoomControlModel",
      "state": {
       "_model_module_version": "^0.13.2",
       "_view_module_version": "^0.13.2",
       "options": [
        "position",
        "zoom_in_text",
        "zoom_in_title",
        "zoom_out_text",
        "zoom_out_title"
       ]
      }
     },
     "6a66ab64e68e4f1ebc36ef82562b016b": {
      "model_module": "jupyter-leaflet",
      "model_module_version": "^0.13.2",
      "model_name": "LeafletMapStyleModel",
      "state": {
       "_model_module_version": "^0.13.2"
      }
     },
     "6e0aee04f1aa4e4786bf7da626fff71b": {
      "model_module": "jupyter-leaflet",
      "model_module_version": "^0.13.2",
      "model_name": "LeafletMapModel",
      "state": {
       "_model_module_version": "^0.13.2",
       "_view_module_version": "^0.13.2",
       "bottom": 1549,
       "center": [
        52.204793,
        360.121558
       ],
       "controls": [
        "IPY_MODEL_ca89781f8f6d48bc95d805e55143f239",
        "IPY_MODEL_ef83390f3bbc426fa31a8a11e15b0bac"
       ],
       "default_style": "IPY_MODEL_eb49205d958e440ab54df75eb69983e3",
       "dragging_style": "IPY_MODEL_b82adfff9142487b92ad4357fda78112",
       "east": 403.24218750000006,
       "fullscreen": false,
       "interpolation": "bilinear",
       "layers": [
        "IPY_MODEL_14844fb804674e79af9292d27c5b98f0",
        "IPY_MODEL_f441c38c1094427f9d8739ca740afc38"
       ],
       "layout": "IPY_MODEL_8b7d73c0713842aa97c00a2576dc3e45",
       "left": 5655,
       "modisdate": "yesterday",
       "north": 61.73152565113397,
       "options": [
        "bounce_at_zoom_limits",
        "box_zoom",
        "center",
        "close_popup_on_click",
        "double_click_zoom",
        "dragging",
        "fullscreen",
        "inertia",
        "inertia_deceleration",
        "inertia_max_speed",
        "interpolation",
        "keyboard",
        "keyboard_pan_offset",
        "keyboard_zoom_offset",
        "max_zoom",
        "min_zoom",
        "scroll_wheel_zoom",
        "tap",
        "tap_tolerance",
        "touch_zoom",
        "world_copy_jump",
        "zoom",
        "zoom_animation_threshold",
        "zoom_delta",
        "zoom_snap",
        "zoom_start"
       ],
       "right": 6636,
       "south": 40.111688665595956,
       "style": "IPY_MODEL_f05bd8ffb11c467ebb1b2e24ab2e348d",
       "top": 1149,
       "west": 180,
       "window_url": "http://localhost:8888/notebooks/jupytext.ipynb",
       "zoom": 4
      }
     },
     "70ecb6d15c6647e282662d8ab51fd677": {
      "model_module": "@jupyter-widgets/base",
      "model_module_version": "1.2.0",
      "model_name": "LayoutModel",
      "state": {}
     },
     "749a56167db04c16937a8424917842a5": {
      "model_module": "jupyter-leaflet",
      "model_module_version": "^0.13.2",
      "model_name": "LeafletAttributionControlModel",
      "state": {
       "_model_module_version": "^0.13.2",
       "_view_module_version": "^0.13.2",
       "options": [
        "position",
        "prefix"
       ],
       "position": "bottomright",
       "prefix": "ipyleaflet"
      }
     },
     "753bd3be20424c3ca6eaa62000e1a822": {
      "model_module": "jupyter-leaflet",
      "model_module_version": "^0.13.2",
      "model_name": "LeafletMarkerModel",
      "state": {
       "_model_module_version": "^0.13.2",
       "_view_module_version": "^0.13.2",
       "location": [
        52.204793,
        360.121558
       ],
       "options": [
        "alt",
        "draggable",
        "keyboard",
        "rise_offset",
        "rise_on_hover",
        "rotation_angle",
        "rotation_origin",
        "title",
        "z_index_offset"
       ]
      }
     },
     "76389bf884b246ce9a02cd026282942f": {
      "model_module": "jupyter-leaflet",
      "model_module_version": "^0.13.2",
      "model_name": "LeafletAttributionControlModel",
      "state": {
       "_model_module_version": "^0.13.2",
       "_view_module_version": "^0.13.2",
       "options": [
        "position",
        "prefix"
       ],
       "position": "bottomright",
       "prefix": "ipyleaflet"
      }
     },
     "80235676eeef4bbe8115ad28c227080d": {
      "model_module": "jupyter-leaflet",
      "model_module_version": "^0.13.2",
      "model_name": "LeafletMapStyleModel",
      "state": {
       "_model_module_version": "^0.13.2"
      }
     },
     "8462fb1aebb04f4fbbd5c1dddb9ecbe8": {
      "model_module": "jupyter-leaflet",
      "model_module_version": "^0.13.2",
      "model_name": "LeafletMapStyleModel",
      "state": {
       "_model_module_version": "^0.13.2"
      }
     },
     "8b7d73c0713842aa97c00a2576dc3e45": {
      "model_module": "@jupyter-widgets/base",
      "model_module_version": "1.2.0",
      "model_name": "LayoutModel",
      "state": {}
     },
     "91e197fb64df496794e198374db3a166": {
      "model_module": "jupyter-leaflet",
      "model_module_version": "^0.13.2",
      "model_name": "LeafletMapStyleModel",
      "state": {
       "_model_module_version": "^0.13.2",
       "cursor": "move"
      }
     },
     "9744e333acb84f3fad6e48435fa06de7": {
      "model_module": "@jupyter-widgets/base",
      "model_module_version": "1.2.0",
      "model_name": "LayoutModel",
      "state": {}
     },
     "998006cc77ee4c2da052114a55ed0908": {
      "model_module": "@jupyter-widgets/base",
      "model_module_version": "1.2.0",
      "model_name": "LayoutModel",
      "state": {}
     },
     "9cf04cb7665045009d51ab022e2d9183": {
      "model_module": "jupyter-leaflet",
      "model_module_version": "^0.13.2",
      "model_name": "LeafletMapStyleModel",
      "state": {
       "_model_module_version": "^0.13.2"
      }
     },
     "a4141edcc540498b9896215ffcab4429": {
      "model_module": "jupyter-leaflet",
      "model_module_version": "^0.13.2",
      "model_name": "LeafletAttributionControlModel",
      "state": {
       "_model_module_version": "^0.13.2",
       "_view_module_version": "^0.13.2",
       "options": [
        "position",
        "prefix"
       ],
       "position": "bottomright",
       "prefix": "ipyleaflet"
      }
     },
     "a58362658df64ba28ef598c62b74b0aa": {
      "model_module": "jupyter-leaflet",
      "model_module_version": "^0.13.2",
      "model_name": "LeafletMapModel",
      "state": {
       "_model_module_version": "^0.13.2",
       "_view_module_version": "^0.13.2",
       "bottom": 1549,
       "center": [
        52.214338608258224,
        360.13183593750006
       ],
       "controls": [
        "IPY_MODEL_2ddc3e1e75a94e3d842993ad2ac08e12",
        "IPY_MODEL_2daaa27fa8224df287f97f71c3447b8a"
       ],
       "default_style": "IPY_MODEL_8462fb1aebb04f4fbbd5c1dddb9ecbe8",
       "dragging_style": "IPY_MODEL_af26044bd08a43dfb49696ed0bca20e5",
       "east": 382.060546875,
       "fullscreen": false,
       "interpolation": "bilinear",
       "layers": [
        "IPY_MODEL_df2378e9abf045a082790787759db2d2",
        "IPY_MODEL_753bd3be20424c3ca6eaa62000e1a822"
       ],
       "layout": "IPY_MODEL_e902cf99e7ac44dd99a2bb64f1e8ea2a",
       "left": 5896,
       "modisdate": "yesterday",
       "north": 61.73152565113397,
       "options": [
        "bounce_at_zoom_limits",
        "box_zoom",
        "center",
        "close_popup_on_click",
        "double_click_zoom",
        "dragging",
        "fullscreen",
        "inertia",
        "inertia_deceleration",
        "inertia_max_speed",
        "interpolation",
        "keyboard",
        "keyboard_pan_offset",
        "keyboard_zoom_offset",
        "max_zoom",
        "min_zoom",
        "scroll_wheel_zoom",
        "tap",
        "tap_tolerance",
        "touch_zoom",
        "world_copy_jump",
        "zoom",
        "zoom_animation_threshold",
        "zoom_delta",
        "zoom_snap",
        "zoom_start"
       ],
       "right": 6395,
       "south": 40.111688665595956,
       "style": "IPY_MODEL_8462fb1aebb04f4fbbd5c1dddb9ecbe8",
       "top": 1149,
       "west": 180,
       "window_url": "http://localhost:8888/notebooks/jupytext.ipynb",
       "zoom": 4
      }
     },
     "a66665013946479da33944ce73bd618d": {
      "model_module": "jupyter-leaflet",
      "model_module_version": "^0.13.2",
      "model_name": "LeafletMarkerModel",
      "state": {
       "_model_module_version": "^0.13.2",
       "_view_module_version": "^0.13.2",
       "location": [
        52.204793,
        360.121558
       ],
       "options": [
        "alt",
        "draggable",
        "keyboard",
        "rise_offset",
        "rise_on_hover",
        "rotation_angle",
        "rotation_origin",
        "title",
        "z_index_offset"
       ]
      }
     },
     "af26044bd08a43dfb49696ed0bca20e5": {
      "model_module": "jupyter-leaflet",
      "model_module_version": "^0.13.2",
      "model_name": "LeafletMapStyleModel",
      "state": {
       "_model_module_version": "^0.13.2",
       "cursor": "move"
      }
     },
     "b0879841eeac43ba92eb807e63741c1d": {
      "model_module": "jupyter-leaflet",
      "model_module_version": "^0.13.2",
      "model_name": "LeafletMarkerModel",
      "state": {
       "_model_module_version": "^0.13.2",
       "_view_module_version": "^0.13.2",
       "location": [
        52.204793,
        360.121558
       ],
       "options": [
        "alt",
        "draggable",
        "keyboard",
        "rise_offset",
        "rise_on_hover",
        "rotation_angle",
        "rotation_origin",
        "title",
        "z_index_offset"
       ]
      }
     },
     "b82adfff9142487b92ad4357fda78112": {
      "model_module": "jupyter-leaflet",
      "model_module_version": "^0.13.2",
      "model_name": "LeafletMapStyleModel",
      "state": {
       "_model_module_version": "^0.13.2",
       "cursor": "move"
      }
     },
     "ba57f42e095d4685a1a65a927b34205a": {
      "model_module": "jupyter-leaflet",
      "model_module_version": "^0.13.2",
      "model_name": "LeafletTileLayerModel",
      "state": {
       "_model_module_version": "^0.13.2",
       "_view_module_version": "^0.13.2",
       "attribution": "\nImagery provided by services from the Global Imagery Browse Services (GIBS), operated by the NASA/GSFC/Earth Science Data and Information System (<a href=\"https://earthdata.nasa.gov\">ESDIS</a>) with funding provided by NASA/HQ.\n",
       "base": true,
       "max_native_zoom": 18,
       "max_zoom": 9,
       "min_native_zoom": 0,
       "min_zoom": 1,
       "name": "NASAGIBS.ModisTerraTrueColorCR",
       "options": [
        "attribution",
        "detect_retina",
        "max_native_zoom",
        "max_zoom",
        "min_native_zoom",
        "min_zoom",
        "no_wrap",
        "tile_size",
        "tms"
       ],
       "url": "https://gibs.earthdata.nasa.gov/wmts/epsg3857/best/MODIS_Terra_CorrectedReflectance_TrueColor/default/2017-04-08/GoogleMapsCompatible_Level9/{z}/{y}/{x}.jpg"
      }
     },
     "bb27a90b0e0141b7a4679c717d83a9e8": {
      "model_module": "jupyter-leaflet",
      "model_module_version": "^0.13.2",
      "model_name": "LeafletMapStyleModel",
      "state": {
       "_model_module_version": "^0.13.2",
       "cursor": "move"
      }
     },
     "bcedca96e21a408196f74fd2a2e24435": {
      "model_module": "jupyter-leaflet",
      "model_module_version": "^0.13.2",
      "model_name": "LeafletMapStyleModel",
      "state": {
       "_model_module_version": "^0.13.2"
      }
     },
     "ca89781f8f6d48bc95d805e55143f239": {
      "model_module": "jupyter-leaflet",
      "model_module_version": "^0.13.2",
      "model_name": "LeafletZoomControlModel",
      "state": {
       "_model_module_version": "^0.13.2",
       "_view_module_version": "^0.13.2",
       "options": [
        "position",
        "zoom_in_text",
        "zoom_in_title",
        "zoom_out_text",
        "zoom_out_title"
       ]
      }
     },
     "d2688eb95f3544f4b4056ffb9d8163af": {
      "model_module": "jupyter-leaflet",
      "model_module_version": "^0.13.2",
      "model_name": "LeafletMapStyleModel",
      "state": {
       "_model_module_version": "^0.13.2"
      }
     },
     "d384de6b41ff46b7b4ffef11ce83d194": {
      "model_module": "jupyter-leaflet",
      "model_module_version": "^0.13.2",
      "model_name": "LeafletMapModel",
      "state": {
       "_model_module_version": "^0.13.2",
       "_view_module_version": "^0.13.2",
       "bottom": 1549,
       "center": [
        52.204793,
        360.121558
       ],
       "controls": [
        "IPY_MODEL_69fa95c836c64b41a98f817656e55907",
        "IPY_MODEL_76389bf884b246ce9a02cd026282942f"
       ],
       "default_style": "IPY_MODEL_80235676eeef4bbe8115ad28c227080d",
       "dragging_style": "IPY_MODEL_91e197fb64df496794e198374db3a166",
       "east": 403.24218750000006,
       "fullscreen": false,
       "interpolation": "bilinear",
       "layers": [
        "IPY_MODEL_0bd33b0482dc4afdb602b224ca1860db",
        "IPY_MODEL_b0879841eeac43ba92eb807e63741c1d"
       ],
       "layout": "IPY_MODEL_9744e333acb84f3fad6e48435fa06de7",
       "left": 5655,
       "modisdate": "yesterday",
       "north": 61.73152565113397,
       "options": [
        "bounce_at_zoom_limits",
        "box_zoom",
        "center",
        "close_popup_on_click",
        "double_click_zoom",
        "dragging",
        "fullscreen",
        "inertia",
        "inertia_deceleration",
        "inertia_max_speed",
        "interpolation",
        "keyboard",
        "keyboard_pan_offset",
        "keyboard_zoom_offset",
        "max_zoom",
        "min_zoom",
        "scroll_wheel_zoom",
        "tap",
        "tap_tolerance",
        "touch_zoom",
        "world_copy_jump",
        "zoom",
        "zoom_animation_threshold",
        "zoom_delta",
        "zoom_snap",
        "zoom_start"
       ],
       "right": 6636,
       "south": 40.111688665595956,
       "style": "IPY_MODEL_6a66ab64e68e4f1ebc36ef82562b016b",
       "top": 1149,
       "west": 180,
       "window_url": "http://localhost:8888/notebooks/jupytext.ipynb",
       "zoom": 4
      }
     },
     "d5cd441c13314a59bbcb492bc57151ec": {
      "model_module": "jupyter-leaflet",
      "model_module_version": "^0.13.2",
      "model_name": "LeafletMarkerModel",
      "state": {
       "_model_module_version": "^0.13.2",
       "_view_module_version": "^0.13.2",
       "location": [
        52.204793,
        360.121558
       ],
       "options": [
        "alt",
        "draggable",
        "keyboard",
        "rise_offset",
        "rise_on_hover",
        "rotation_angle",
        "rotation_origin",
        "title",
        "z_index_offset"
       ]
      }
     },
     "df2378e9abf045a082790787759db2d2": {
      "model_module": "jupyter-leaflet",
      "model_module_version": "^0.13.2",
      "model_name": "LeafletTileLayerModel",
      "state": {
       "_model_module_version": "^0.13.2",
       "_view_module_version": "^0.13.2",
       "attribution": "\nImagery provided by services from the Global Imagery Browse Services (GIBS), operated by the NASA/GSFC/Earth Science Data and Information System (<a href=\"https://earthdata.nasa.gov\">ESDIS</a>) with funding provided by NASA/HQ.\n",
       "base": true,
       "max_native_zoom": 18,
       "max_zoom": 9,
       "min_native_zoom": 0,
       "min_zoom": 1,
       "name": "NASAGIBS.ModisTerraTrueColorCR",
       "options": [
        "attribution",
        "detect_retina",
        "max_native_zoom",
        "max_zoom",
        "min_native_zoom",
        "min_zoom",
        "no_wrap",
        "tile_size",
        "tms"
       ],
       "url": "https://gibs.earthdata.nasa.gov/wmts/epsg3857/best/MODIS_Terra_CorrectedReflectance_TrueColor/default/2017-04-08/GoogleMapsCompatible_Level9/{z}/{y}/{x}.jpg"
      }
     },
     "e902cf99e7ac44dd99a2bb64f1e8ea2a": {
      "model_module": "@jupyter-widgets/base",
      "model_module_version": "1.2.0",
      "model_name": "LayoutModel",
      "state": {}
     },
     "eb2732eb81af44989eff3a22e66e44ff": {
      "model_module": "jupyter-leaflet",
      "model_module_version": "^0.13.2",
      "model_name": "LeafletMarkerModel",
      "state": {
       "_model_module_version": "^0.13.2",
       "_view_module_version": "^0.13.2",
       "location": [
        52.204793,
        360.121558
       ],
       "options": [
        "alt",
        "draggable",
        "keyboard",
        "rise_offset",
        "rise_on_hover",
        "rotation_angle",
        "rotation_origin",
        "title",
        "z_index_offset"
       ]
      }
     },
     "eb49205d958e440ab54df75eb69983e3": {
      "model_module": "jupyter-leaflet",
      "model_module_version": "^0.13.2",
      "model_name": "LeafletMapStyleModel",
      "state": {
       "_model_module_version": "^0.13.2"
      }
     },
     "ef83390f3bbc426fa31a8a11e15b0bac": {
      "model_module": "jupyter-leaflet",
      "model_module_version": "^0.13.2",
      "model_name": "LeafletAttributionControlModel",
      "state": {
       "_model_module_version": "^0.13.2",
       "_view_module_version": "^0.13.2",
       "options": [
        "position",
        "prefix"
       ],
       "position": "bottomright",
       "prefix": "ipyleaflet"
      }
     },
     "f05bd8ffb11c467ebb1b2e24ab2e348d": {
      "model_module": "jupyter-leaflet",
      "model_module_version": "^0.13.2",
      "model_name": "LeafletMapStyleModel",
      "state": {
       "_model_module_version": "^0.13.2"
      }
     },
     "f3fce52e911e4a0380e8820d6b30637f": {
      "model_module": "jupyter-leaflet",
      "model_module_version": "^0.13.2",
      "model_name": "LeafletMapModel",
      "state": {
       "_model_module_version": "^0.13.2",
       "_view_module_version": "^0.13.2",
       "bottom": 1549,
       "center": [
        52.204793,
        360.121558
       ],
       "controls": [
        "IPY_MODEL_109573a08bf54dac95b2a8be6f8ac247",
        "IPY_MODEL_749a56167db04c16937a8424917842a5"
       ],
       "default_style": "IPY_MODEL_bcedca96e21a408196f74fd2a2e24435",
       "dragging_style": "IPY_MODEL_fb2cd8629fa14bbca691fe578a4b4fd0",
       "east": 403.24218750000006,
       "fullscreen": false,
       "interpolation": "bilinear",
       "layers": [
        "IPY_MODEL_ba57f42e095d4685a1a65a927b34205a",
        "IPY_MODEL_eb2732eb81af44989eff3a22e66e44ff"
       ],
       "layout": "IPY_MODEL_42a6f28f0b4a40be8b730135a0d079f8",
       "left": 5655,
       "modisdate": "yesterday",
       "north": 61.73152565113397,
       "options": [
        "bounce_at_zoom_limits",
        "box_zoom",
        "center",
        "close_popup_on_click",
        "double_click_zoom",
        "dragging",
        "fullscreen",
        "inertia",
        "inertia_deceleration",
        "inertia_max_speed",
        "interpolation",
        "keyboard",
        "keyboard_pan_offset",
        "keyboard_zoom_offset",
        "max_zoom",
        "min_zoom",
        "scroll_wheel_zoom",
        "tap",
        "tap_tolerance",
        "touch_zoom",
        "world_copy_jump",
        "zoom",
        "zoom_animation_threshold",
        "zoom_delta",
        "zoom_snap",
        "zoom_start"
       ],
       "right": 6636,
       "south": 40.111688665595956,
       "style": "IPY_MODEL_10c1d5c3c48943429b3b25e9a16b0de3",
       "top": 1149,
       "west": 180,
       "window_url": "http://localhost:8888/notebooks/jupytext.ipynb",
       "zoom": 4
      }
     },
     "f441c38c1094427f9d8739ca740afc38": {
      "model_module": "jupyter-leaflet",
      "model_module_version": "^0.13.2",
      "model_name": "LeafletMarkerModel",
      "state": {
       "_model_module_version": "^0.13.2",
       "_view_module_version": "^0.13.2",
       "location": [
        52.204793,
        360.121558
       ],
       "options": [
        "alt",
        "draggable",
        "keyboard",
        "rise_offset",
        "rise_on_hover",
        "rotation_angle",
        "rotation_origin",
        "title",
        "z_index_offset"
       ]
      }
     },
     "fb2cd8629fa14bbca691fe578a4b4fd0": {
      "model_module": "jupyter-leaflet",
      "model_module_version": "^0.13.2",
      "model_name": "LeafletMapStyleModel",
      "state": {
       "_model_module_version": "^0.13.2",
       "cursor": "move"
      }
     },
     "fba72d0491ed41aab544a69ec36e4751": {
      "model_module": "jupyter-leaflet",
      "model_module_version": "^0.13.2",
      "model_name": "LeafletZoomControlModel",
      "state": {
       "_model_module_version": "^0.13.2",
       "_view_module_version": "^0.13.2",
       "options": [
        "position",
        "zoom_in_text",
        "zoom_in_title",
        "zoom_out_text",
        "zoom_out_title"
       ]
      }
     }
    },
    "version_major": 2,
    "version_minor": 0
   }
  }
 },
 "nbformat": 4,
 "nbformat_minor": 4
}
