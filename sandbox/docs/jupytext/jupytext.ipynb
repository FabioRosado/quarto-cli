{
 "cells": [
  {
   "cell_type": "raw",
   "metadata": {},
   "source": [
    "---\n",
    "title: \"Here we go again and again\"\n",
    "author: \"J.J. Allaire\"\n",
    "knit: quarto render\n",
    "format:\n",
    "  html:\n",
    "    keep-md: false\n",
    "execute:\n",
    "  include-code: true\n",
    "  allow-errors: true\n",
    "bibliography: references.bib\n",
    "---"
   ]
  },
  {
   "cell_type": "code",
   "execution_count": 1,
   "metadata": {
    "lines_to_next_cell": 2,
    "tags": [
     "remove-cell"
    ]
   },
   "outputs": [],
   "source": [
    "import warnings"
   ]
  },
  {
   "cell_type": "code",
   "execution_count": 2,
   "metadata": {
    "lines_to_next_cell": 2
   },
   "outputs": [
    {
     "name": "stdout",
     "output_type": "stream",
     "text": [
      "/Users/jjallaire/quarto/quarto-cli/sandbox/docs/jupytext\n",
      "Hello, World Again and Again\n",
      "\n"
     ]
    },
    {
     "name": "stderr",
     "output_type": "stream",
     "text": [
      "<ipython-input-1-8ef855301500>:4: UserWarning: we better watch out!\n",
      "  warnings.warn(\"we better watch out!\")\n"
     ]
    }
   ],
   "source": [
    "import os\n",
    "print(os.getcwd())\n",
    "print (\"Hello, World Again and Again\\n\")\n",
    "warnings.warn(\"we better watch out!\")"
   ]
  },
  {
   "cell_type": "markdown",
   "metadata": {},
   "source": [
    "## Visual Editor\n",
    "\n",
    "@pirzada2020\n",
    "\n",
    "Definition is the tip\n",
    "\n",
    ": Here we go"
   ]
  },
  {
   "cell_type": "code",
   "execution_count": 3,
   "metadata": {
    "lines_to_next_cell": 2,
    "tags": [
     "include-code"
    ]
   },
   "outputs": [
    {
     "data": {
      "image/png": "[encoded data removed]",
      "text/plain": [
       "<Figure size 432x288 with 1 Axes>"
      ]
     },
     "metadata": {
      "needs_background": "light"
     },
     "output_type": "display_data"
    }
   ],
   "source": [
    "import matplotlib.pyplot as plt\n",
    "\n",
    "\n",
    "labels = ['G1', 'G2', 'G3', 'G4', 'G6']\n",
    "men_means = [20, 35, 30, 35, 27]\n",
    "women_means = [25, 32, 34, 20, 25]\n",
    "men_std = [2, 3, 4, 1, 2]\n",
    "women_std = [3, 5, 2, 3, 3]\n",
    "width = 0.35       # the width of the bars: can also be len(x) sequence\n",
    "\n",
    "fig, ax = plt.subplots()\n",
    "\n",
    "ax.bar(labels, men_means, width, yerr=men_std, label='Men')\n",
    "ax.bar(labels, women_means, width, yerr=women_std, bottom=men_means,\n",
    "       label='Women')\n",
    "\n",
    "ax.set_ylabel('Scores')\n",
    "ax.set_title('Scores broken out by group and gender')\n",
    "ax.legend()\n",
    "\n",
    "plt.show()"
   ]
  },
  {
   "cell_type": "code",
   "execution_count": 4,
   "metadata": {
    "lines_to_next_cell": 0
   },
   "outputs": [],
   "source": [
    "from jupytext.config import find_jupytext_configuration_file\n",
    "find_jupytext_configuration_file('.')"
   ]
  },
  {
   "cell_type": "markdown",
   "metadata": {},
   "source": [
    "\n"
   ]
  }
 ],
 "metadata": {
  "jupytext": {
   "formats": "ipynb,md",
   "notebook_metadata_filter": "-jupytext.text_representation,-jupytext.notebook_metadata_filter"
  },
  "kernelspec": {
   "display_name": "Python 3",
   "language": "python",
   "name": "python3"
  },
  "language_info": {
   "codemirror_mode": {
    "name": "ipython",
    "version": 3
   },
   "file_extension": ".py",
   "mimetype": "text/x-python",
   "name": "python",
   "nbconvert_exporter": "python",
   "pygments_lexer": "ipython3",
   "version": "3.8.5"
  }
 },
 "nbformat": 4,
 "nbformat_minor": 4
}
