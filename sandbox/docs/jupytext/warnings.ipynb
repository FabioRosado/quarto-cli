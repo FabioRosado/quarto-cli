{
 "cells": [
  {
   "cell_type": "raw",
   "metadata": {},
   "source": [
    "---\n",
    "title: \"Warnings\"\n",
    "knit: quarto render\n",
    "---"
   ]
  },
  {
   "cell_type": "code",
   "execution_count": 2,
   "metadata": {
    "lines_to_next_cell": 0
   },
   "outputs": [
    {
     "name": "stderr",
     "output_type": "stream",
     "text": [
      "<ipython-input-1-cbc5f13b2e84>:2: UserWarning: we better watch out!\n",
      "  warnings.warn(\"we better watch out!\")\n",
      "<ipython-input-1-cbc5f13b2e84>:3: UserWarning: another wr!\n",
      "  warnings.warn(\"another wr!\")\n"
     ]
    }
   ],
   "source": [
    "import warnings\n",
    "warnings.warn(\"we better watch out!\")\n",
    "warnings.warn(\"another wr!\")"
   ]
  },
  {
   "cell_type": "markdown",
   "metadata": {},
   "source": []
  }
 ],
 "metadata": {
  "jupytext": {
   "formats": "ipynb,md",
   "notebook_metadata_filter": "-jupytext.text_representation,-jupytext.notebook_metadata_filter"
  },
  "kernelspec": {
   "display_name": "Python 3",
   "language": "python",
   "name": "python3"
  },
  "language_info": {
   "codemirror_mode": {
    "name": "ipython",
    "version": 3
   },
   "file_extension": ".py",
   "mimetype": "text/x-python",
   "name": "python",
   "nbconvert_exporter": "python",
   "pygments_lexer": "ipython3",
   "version": "3.8.5"
  }
 },
 "nbformat": 4,
 "nbformat_minor": 4
}
